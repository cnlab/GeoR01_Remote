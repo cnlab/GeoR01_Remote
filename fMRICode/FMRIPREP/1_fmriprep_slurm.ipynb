{
 "cells": [
  {
   "cell_type": "markdown",
   "metadata": {},
   "source": [
    "# Using `fmriprep` on the SLURM cluster\n",
    "\n",
    "\n",
    "\n",
    "--------------------\n",
    "\n",
    "\n",
    "#### HISTORY\n",
    "\n",
    "* 7/9/2021 - dcosme revised for bbprime\n",
    "* 5/22/20 - mbod updated for revised MURI fmriprep pipeline\n",
    "* 1/22/20 - matt, jeesung and nicole initial test setup for using SLURM"
   ]
  },
  {
   "cell_type": "code",
   "execution_count": 1,
   "metadata": {
    "ExecuteTime": {
     "end_time": "2022-06-16T13:15:38.664644Z",
     "start_time": "2022-06-16T13:15:38.660012Z"
    }
   },
   "outputs": [],
   "source": [
    "import os"
   ]
  },
  {
   "cell_type": "markdown",
   "metadata": {},
   "source": [
    "## 1. Create job files\n",
    "\n",
    "* Each process that you send to SLURM needs a job file, which is a text file with the commands to be executed by SLURM\n",
    "\n",
    "* For the bbprime project these job files should be placed in:\n",
    "\n",
    "```\n",
    "/data00/projects/geoscan_v2/scripts/FMRIPREP/jobs\n",
    "```\n",
    "\n",
    "* A job file has:\n",
    "\n",
    "    1. some SLURM directives in lines beginning `#SBATCH`\n",
    "    2. one or more commands to be run (prefixed with `srun`)\n",
    "    \n",
    "```\n",
    "#!/bin/bash\n",
    "#SBATCH --job-name=fmriprep_{ID}.job\n",
    "#SBATCH --output=out/fmriprep_{ID}.out\n",
    "#SBATCH --error=out/fmriprep_{ID}.err\n",
    "#SBATCH --time=2-00:00\n",
    "\n",
    "srun singularity run --cleanenv \\\n",
    "    -B /data00/tools/freesurfer/license.txt:/opt/freesurfer/license.txt  \\\n",
    "    -B /data00/projects/geoscan_v2/data/bids_data:/data \\\n",
    "    -B /data00/projects/geoscan_v2/data/bids_data/derivatives:/out  \\\n",
    "    -B /data00/projects/geoscan_v2/data/bids_data/derivatives/working:/work \\\n",
    "    /data00/tools/singularity_images/fmriprep_v20.0.6 /data /out -w /work \\\n",
    "    --ignore slicetiming \\\n",
    "    --nthread 8 \\\n",
    "    participant --participant_label {ID} \\\n",
    "    --skip-bids-validation\n",
    "```"
   ]
  },
  {
   "cell_type": "markdown",
   "metadata": {},
   "source": [
    "### Define variables"
   ]
  },
  {
   "cell_type": "code",
   "execution_count": 2,
   "metadata": {
    "ExecuteTime": {
     "end_time": "2022-06-16T13:15:41.701550Z",
     "start_time": "2022-06-16T13:15:41.674881Z"
    }
   },
   "outputs": [],
   "source": [
    "project = 'geoscan_v2'\n",
    "project_dir = os.path.join('/data00/projects', project)\n",
    "slurm_dir = os.path.join(project_dir, 'scripts/FMRIPREP/jobs')\n",
    "os.makedirs(slurm_dir, exist_ok=True)"
   ]
  },
  {
   "cell_type": "markdown",
   "metadata": {},
   "source": [
    "### Create job template"
   ]
  },
  {
   "cell_type": "markdown",
   "metadata": {},
   "source": [
    "OLD VERSION: Fieldmap correction"
   ]
  },
  {
   "cell_type": "code",
   "execution_count": 3,
   "metadata": {
    "ExecuteTime": {
     "end_time": "2022-06-16T13:16:39.640364Z",
     "start_time": "2022-06-16T13:16:39.637048Z"
    }
   },
   "outputs": [],
   "source": [
    "job_file_template = r'''#!/bin/bash\n",
    "#SBATCH --job-name=fmriprep_{ID}.job\n",
    "#SBATCH --output=out/fmriprep_{ID}.out\n",
    "#SBATCH --error=out/fmriprep_{ID}.err\n",
    "#SBATCH --time=2-00:00\n",
    "\n",
    "srun singularity run --cleanenv \\\n",
    "    -B /data00/tools/freesurfer/license.txt:/opt/freesurfer/license.txt  \\\n",
    "    -B /data00/projects/geoscan_v2/data/bids_data:/data \\\n",
    "    -B /data00/projects/geoscan_v2/data/bids_data/derivatives:/out  \\\n",
    "    -B /data00/projects/geoscan_v2/data/bids_data/derivatives/working:/work \\\n",
    "    /data00/tools/singularity_images/fmriprep_v20.0.6 /data /out -w /work \\\n",
    "    --ignore slicetiming \\\n",
    "    --nthread 8 \\\n",
    "    participant --participant_label {ID} \\\n",
    "    --skip-bids-validation\n",
    "'''"
   ]
  },
  {
   "cell_type": "markdown",
   "metadata": {},
   "source": [
    "NEW VERSION: Fieldmap-less correction"
   ]
  },
  {
   "cell_type": "code",
   "execution_count": 4,
   "metadata": {
    "ExecuteTime": {
     "end_time": "2022-06-16T13:16:44.465873Z",
     "start_time": "2022-06-16T13:16:44.462765Z"
    }
   },
   "outputs": [],
   "source": [
    "job_file_template = r'''#!/bin/bash\n",
    "#SBATCH --job-name=fmriprep-syn_{ID}.job\n",
    "#SBATCH --output=out/fmriprep-syn_{ID}.out\n",
    "#SBATCH --error=out/fmriprep-syn_{ID}.err\n",
    "#SBATCH --time=2-00:00\n",
    "\n",
    "srun singularity run --cleanenv \\\n",
    "    -B /data00/tools/freesurfer/license.txt:/opt/freesurfer/license.txt  \\\n",
    "    -B /data00/projects/geoscan_v2/data/bids_data:/data \\\n",
    "    -B /data00/projects/geoscan_v2/data/bids_data/derivatives:/out  \\\n",
    "    -B /data00/projects/geoscan_v2/data/bids_data/derivatives/working:/work \\\n",
    "    /data00/tools/singularity_images/fmriprep_v20.0.6 /data /out -w /work \\\n",
    "    --ignore slicetiming fieldmaps \\\n",
    "    --use-syn-sdc \\\n",
    "    --nthread 8 \\\n",
    "    participant --participant_label {ID} \\\n",
    "    --skip-bids-validation\n",
    "'''"
   ]
  },
  {
   "cell_type": "code",
   "execution_count": 4,
   "metadata": {
    "ExecuteTime": {
     "end_time": "2022-06-13T14:42:40.792648Z",
     "start_time": "2022-06-13T14:42:40.787212Z"
    }
   },
   "outputs": [
    {
     "name": "stdout",
     "output_type": "stream",
     "text": [
      "#!/bin/bash\n",
      "#SBATCH --job-name=fmriprep-syn_sub-GS005.job\n",
      "#SBATCH --output=out/fmriprep-syn_sub-GS005.out\n",
      "#SBATCH --error=out/fmriprep-syn_sub-GS005.err\n",
      "#SBATCH --time=2-00:00\n",
      "\n",
      "srun singularity run --cleanenv \\\n",
      "    -B /data00/tools/freesurfer/license.txt:/opt/freesurfer/license.txt  \\\n",
      "    -B /data00/projects/geoscan_v2/data/bids_data:/data \\\n",
      "    -B /data00/projects/geoscan_v2/data/bids_data/derivatives:/out  \\\n",
      "    -B /data00/projects/geoscan_v2/data/bids_data/derivatives/working:/work \\\n",
      "    /data00/tools/singularity_images/fmriprep_v20.0.6 /data /out -w /work \\\n",
      "    --ignore slicetiming fieldmaps \\\n",
      "    --use-syn-sdc \\\n",
      "    --nthread 8 \\\n",
      "    participant --participant_label sub-GS005 \\\n",
      "    --skip-bids-validation\n",
      "\n"
     ]
    }
   ],
   "source": [
    "print(job_file_template.format(ID='sub-GS005'))"
   ]
  },
  {
   "cell_type": "markdown",
   "metadata": {},
   "source": [
    "### Identify participants who lack job files\n",
    "Of the participants listed in the `{project_dir}/data/bids_data`, identify those who lack a job file and create it"
   ]
  },
  {
   "cell_type": "code",
   "execution_count": 7,
   "metadata": {
    "ExecuteTime": {
     "end_time": "2022-06-16T13:17:29.652354Z",
     "start_time": "2022-06-16T13:17:29.639390Z"
    }
   },
   "outputs": [],
   "source": [
    "subs = [s for s in os.listdir(os.path.join(project_dir, 'data/bids_data'))\n",
    "                       if s.startswith('sub-GEO')]\n",
    "\n",
    "existing_job_files = [s for s in os.listdir(slurm_dir)\n",
    "                       if s.endswith('.job') and s.count('sub-GS')==1]\n",
    "\n",
    "subs_to_process = [sub for sub in subs if 'fmriprep-syn_' + sub + '.job' not in existing_job_files]"
   ]
  },
  {
   "cell_type": "code",
   "execution_count": 8,
   "metadata": {
    "ExecuteTime": {
     "end_time": "2022-06-16T13:17:31.658411Z",
     "start_time": "2022-06-16T13:17:31.654255Z"
    }
   },
   "outputs": [
    {
     "data": {
      "text/plain": [
       "['sub-GEO015',\n",
       " 'sub-GEO021',\n",
       " 'sub-GEO033',\n",
       " 'sub-GEO036',\n",
       " 'sub-GEO037',\n",
       " 'sub-GEO053',\n",
       " 'sub-GEO061',\n",
       " 'sub-GEO064',\n",
       " 'sub-GEO067',\n",
       " 'sub-GEO068',\n",
       " 'sub-GEO070',\n",
       " 'sub-GEO071',\n",
       " 'sub-GEO073',\n",
       " 'sub-GEO074',\n",
       " 'sub-GEO078']"
      ]
     },
     "execution_count": 8,
     "metadata": {},
     "output_type": "execute_result"
    }
   ],
   "source": [
    "subs_to_process "
   ]
  },
  {
   "cell_type": "markdown",
   "metadata": {},
   "source": [
    "### Create a job file for each participant in `subs_to_process`"
   ]
  },
  {
   "cell_type": "code",
   "execution_count": 9,
   "metadata": {
    "ExecuteTime": {
     "end_time": "2022-06-16T13:17:36.431413Z",
     "start_time": "2022-06-16T13:17:35.875964Z"
    }
   },
   "outputs": [
    {
     "name": "stdout",
     "output_type": "stream",
     "text": [
      "Creating /data00/projects/geoscan_v2/scripts/FMRIPREP/jobs/fmriprep-syn_sub-GEO015.job\n",
      "Creating /data00/projects/geoscan_v2/scripts/FMRIPREP/jobs/fmriprep-syn_sub-GEO021.job\n",
      "Creating /data00/projects/geoscan_v2/scripts/FMRIPREP/jobs/fmriprep-syn_sub-GEO033.job\n",
      "Creating /data00/projects/geoscan_v2/scripts/FMRIPREP/jobs/fmriprep-syn_sub-GEO036.job\n",
      "Creating /data00/projects/geoscan_v2/scripts/FMRIPREP/jobs/fmriprep-syn_sub-GEO037.job\n",
      "Creating /data00/projects/geoscan_v2/scripts/FMRIPREP/jobs/fmriprep-syn_sub-GEO053.job\n",
      "Creating /data00/projects/geoscan_v2/scripts/FMRIPREP/jobs/fmriprep-syn_sub-GEO061.job\n",
      "Creating /data00/projects/geoscan_v2/scripts/FMRIPREP/jobs/fmriprep-syn_sub-GEO064.job\n",
      "Creating /data00/projects/geoscan_v2/scripts/FMRIPREP/jobs/fmriprep-syn_sub-GEO067.job\n",
      "Creating /data00/projects/geoscan_v2/scripts/FMRIPREP/jobs/fmriprep-syn_sub-GEO068.job\n",
      "Creating /data00/projects/geoscan_v2/scripts/FMRIPREP/jobs/fmriprep-syn_sub-GEO070.job\n",
      "Creating /data00/projects/geoscan_v2/scripts/FMRIPREP/jobs/fmriprep-syn_sub-GEO071.job\n",
      "Creating /data00/projects/geoscan_v2/scripts/FMRIPREP/jobs/fmriprep-syn_sub-GEO073.job\n",
      "Creating /data00/projects/geoscan_v2/scripts/FMRIPREP/jobs/fmriprep-syn_sub-GEO074.job\n",
      "Creating /data00/projects/geoscan_v2/scripts/FMRIPREP/jobs/fmriprep-syn_sub-GEO078.job\n"
     ]
    }
   ],
   "source": [
    "for s in subs_to_process:\n",
    "    file_path = os.path.join(slurm_dir, 'fmriprep-syn_{}.job').format(s)\n",
    "    print('Creating', file_path)\n",
    "\n",
    "    with open(file_path.format(s), 'w') as job:\n",
    "        job.write(job_file_template.format(ID=s))"
   ]
  },
  {
   "cell_type": "markdown",
   "metadata": {},
   "source": [
    "## 2. Submit jobs to SLURM cluster\n",
    "\n",
    "### How to log onto the SLURM master\n",
    "\n",
    "\n",
    "* master name: `cls000.asc.upenn.edu`\n",
    "\n",
    "\n",
    "```\n",
    "ssh <JANUS_UN>@asc.upenn.edu@cls000\n",
    "```\n",
    "\n",
    "\n",
    "* This will give you a terminal on the SLURM master node where you can look at the process queue and schedule jobs.\n",
    "\n",
    "### How to schedule a job to SLURM\n",
    "\n",
    "* Use the `sbatch` command\n",
    "\n",
    "    ```\n",
    "    sbatch -D /data00/slurm_jobs/slurm_bbprime -c 8 name_of_job_file\n",
    "    \n",
    "    ```\n",
    "\n",
    "    * `-D` is the working directory\n",
    "    * `-c` the number of processors to use\n",
    "    * then the name of the job file"
   ]
  },
  {
   "cell_type": "markdown",
   "metadata": {},
   "source": [
    "### Create log file directory\n",
    "\n",
    "If this doesn't exist, your job will fail without explanation"
   ]
  },
  {
   "cell_type": "code",
   "execution_count": 10,
   "metadata": {
    "ExecuteTime": {
     "end_time": "2022-06-16T13:17:41.793063Z",
     "start_time": "2022-06-16T13:17:41.785210Z"
    }
   },
   "outputs": [],
   "source": [
    "os.makedirs(os.path.join(slurm_dir, 'out'), exist_ok=True)"
   ]
  },
  {
   "cell_type": "markdown",
   "metadata": {},
   "source": [
    "### Run all jobs\n",
    "To submit all the jobs, copy and past the following lines of code into the terminal after logging into the slurm cluster"
   ]
  },
  {
   "cell_type": "code",
   "execution_count": 11,
   "metadata": {
    "ExecuteTime": {
     "end_time": "2022-06-16T13:17:43.214802Z",
     "start_time": "2022-06-16T13:17:43.207577Z"
    }
   },
   "outputs": [
    {
     "name": "stdout",
     "output_type": "stream",
     "text": [
      "Alternatively, submit the whole batch by copying and pasting the following lines in terminal:\n",
      "\n",
      "cd /data00/projects/geoscan_v2/scripts/FMRIPREP/jobs\n",
      "sbatch -D /data00/projects/geoscan_v2/scripts/FMRIPREP/jobs -c 8 fmriprep-syn_sub-GEO015.job\n",
      "sbatch -D /data00/projects/geoscan_v2/scripts/FMRIPREP/jobs -c 8 fmriprep-syn_sub-GEO021.job\n",
      "sbatch -D /data00/projects/geoscan_v2/scripts/FMRIPREP/jobs -c 8 fmriprep-syn_sub-GEO033.job\n",
      "sbatch -D /data00/projects/geoscan_v2/scripts/FMRIPREP/jobs -c 8 fmriprep-syn_sub-GEO036.job\n",
      "sbatch -D /data00/projects/geoscan_v2/scripts/FMRIPREP/jobs -c 8 fmriprep-syn_sub-GEO037.job\n",
      "sbatch -D /data00/projects/geoscan_v2/scripts/FMRIPREP/jobs -c 8 fmriprep-syn_sub-GEO053.job\n",
      "sbatch -D /data00/projects/geoscan_v2/scripts/FMRIPREP/jobs -c 8 fmriprep-syn_sub-GEO061.job\n",
      "sbatch -D /data00/projects/geoscan_v2/scripts/FMRIPREP/jobs -c 8 fmriprep-syn_sub-GEO064.job\n",
      "sbatch -D /data00/projects/geoscan_v2/scripts/FMRIPREP/jobs -c 8 fmriprep-syn_sub-GEO067.job\n",
      "sbatch -D /data00/projects/geoscan_v2/scripts/FMRIPREP/jobs -c 8 fmriprep-syn_sub-GEO068.job\n",
      "sbatch -D /data00/projects/geoscan_v2/scripts/FMRIPREP/jobs -c 8 fmriprep-syn_sub-GEO070.job\n",
      "sbatch -D /data00/projects/geoscan_v2/scripts/FMRIPREP/jobs -c 8 fmriprep-syn_sub-GEO071.job\n",
      "sbatch -D /data00/projects/geoscan_v2/scripts/FMRIPREP/jobs -c 8 fmriprep-syn_sub-GEO073.job\n",
      "sbatch -D /data00/projects/geoscan_v2/scripts/FMRIPREP/jobs -c 8 fmriprep-syn_sub-GEO074.job\n",
      "sbatch -D /data00/projects/geoscan_v2/scripts/FMRIPREP/jobs -c 8 fmriprep-syn_sub-GEO078.job\n",
      " \n"
     ]
    }
   ],
   "source": [
    "print(\"Alternatively, submit the whole batch by copying and pasting the following lines in terminal:\")\n",
    "print(\"\")\n",
    "\n",
    "print(f\"cd {slurm_dir}\")\n",
    "for s in subs_to_process:\n",
    "    print(f\"sbatch -D {slurm_dir} -c 8 fmriprep-syn_{s}.job\")\n",
    "print(\" \")"
   ]
  },
  {
   "cell_type": "code",
   "execution_count": null,
   "metadata": {},
   "outputs": [],
   "source": []
  }
 ],
 "metadata": {
  "kernelspec": {
   "display_name": "Python 3",
   "language": "python",
   "name": "python3"
  },
  "language_info": {
   "codemirror_mode": {
    "name": "ipython",
    "version": 3
   },
   "file_extension": ".py",
   "mimetype": "text/x-python",
   "name": "python",
   "nbconvert_exporter": "python",
   "pygments_lexer": "ipython3",
   "version": "3.7.4"
  },
  "varInspector": {
   "cols": {
    "lenName": 16,
    "lenType": 16,
    "lenVar": 40
   },
   "kernels_config": {
    "python": {
     "delete_cmd_postfix": "",
     "delete_cmd_prefix": "del ",
     "library": "var_list.py",
     "varRefreshCmd": "print(var_dic_list())"
    },
    "r": {
     "delete_cmd_postfix": ") ",
     "delete_cmd_prefix": "rm(",
     "library": "var_list.r",
     "varRefreshCmd": "cat(var_dic_list()) "
    }
   },
   "types_to_exclude": [
    "module",
    "function",
    "builtin_function_or_method",
    "instance",
    "_Feature"
   ],
   "window_display": false
  }
 },
 "nbformat": 4,
 "nbformat_minor": 2
}
