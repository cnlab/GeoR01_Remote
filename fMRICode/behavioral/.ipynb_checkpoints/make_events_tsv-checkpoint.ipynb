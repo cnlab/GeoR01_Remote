{
 "cells": [
  {
   "cell_type": "markdown",
   "metadata": {},
   "source": [
    "# make events.tsv files\n",
    "Read in the events csv files, remove the keypress trial type, and output .tsv files in the BIDS func folders for each participant\n",
    "\n",
    "---\n",
    "10/19/2021 - dcosme wrote script"
   ]
  },
  {
   "cell_type": "markdown",
   "metadata": {},
   "source": [
    "## load packages"
   ]
  },
  {
   "cell_type": "code",
   "execution_count": 1,
   "metadata": {},
   "outputs": [],
   "source": [
    "library(pacman)\n",
    "pacman::p_load(tidyverse, fs, install = TRUE)"
   ]
  },
  {
   "cell_type": "markdown",
   "metadata": {},
   "source": [
    "## define paths"
   ]
  },
  {
   "cell_type": "code",
   "execution_count": 2,
   "metadata": {},
   "outputs": [],
   "source": [
    "file_share_dir = \"/data00/projects/bbprime/data/task_logs/task_scanner/task_share\"\n",
    "file_read_dir = \"/data00/projects/bbprime/data/task_logs/task_scanner/task_read\"\n",
    "bids_dir = \"/data00/projects/bbprime/data/bids_data\""
   ]
  },
  {
   "cell_type": "markdown",
   "metadata": {},
   "source": [
    "## read and convert files\n",
    "### share task"
   ]
  },
  {
   "cell_type": "code",
   "execution_count": 4,
   "metadata": {},
   "outputs": [
    {
     "name": "stdout",
     "output_type": "stream",
     "text": [
      "[1] \"/data00/projects/bbprime/data/bids_data/sub-BPA01/func/sub-BPA01_task-share_run-1_events.tsv\"\n",
      "[1] \"/data00/projects/bbprime/data/bids_data/sub-BPA01/func/sub-BPA01_task-share_run-2_events.tsv\"\n",
      "[1] \"/data00/projects/bbprime/data/bids_data/sub-BPA02/func/sub-BPA02_task-share_run-1_events.tsv\"\n",
      "[1] \"/data00/projects/bbprime/data/bids_data/sub-BPA02/func/sub-BPA02_task-share_run-2_events.tsv\"\n",
      "[1] \"/data00/projects/bbprime/data/bids_data/sub-BPA02/func/sub-BPA02_task-share_run-3_events.tsv\"\n",
      "[1] \"/data00/projects/bbprime/data/bids_data/sub-BPA03/func/sub-BPA03_task-share_run-1_events.tsv\"\n",
      "[1] \"/data00/projects/bbprime/data/bids_data/sub-BPA03/func/sub-BPA03_task-share_run-2_events.tsv\"\n",
      "[1] \"/data00/projects/bbprime/data/bids_data/sub-BPA04/func/sub-BPA04_task-share_run-1_events.tsv\"\n",
      "[1] \"/data00/projects/bbprime/data/bids_data/sub-BPA04/func/sub-BPA04_task-share_run-2_events.tsv\"\n",
      "[1] \"/data00/projects/bbprime/data/bids_data/sub-BPA04/func/sub-BPA04_task-share_run-3_events.tsv\"\n",
      "[1] \"/data00/projects/bbprime/data/bids_data/sub-BPA05/func/sub-BPA05_task-share_run-1_events.tsv\"\n",
      "[1] \"/data00/projects/bbprime/data/bids_data/sub-BPA05/func/sub-BPA05_task-share_run-2_events.tsv\"\n",
      "[1] \"/data00/projects/bbprime/data/bids_data/sub-BPA05/func/sub-BPA05_task-share_run-3_events.tsv\"\n",
      "[1] \"/data00/projects/bbprime/data/bids_data/sub-BPA06/func/sub-BPA06_task-share_run-1_events.tsv\"\n",
      "[1] \"/data00/projects/bbprime/data/bids_data/sub-BPA06/func/sub-BPA06_task-share_run-2_events.tsv\"\n",
      "[1] \"/data00/projects/bbprime/data/bids_data/sub-BPA06/func/sub-BPA06_task-share_run-3_events.tsv\"\n",
      "[1] \"/data00/projects/bbprime/data/bids_data/sub-BPA08/func/sub-BPA08_task-share_run-1_events.tsv\"\n",
      "[1] \"/data00/projects/bbprime/data/bids_data/sub-BPA08/func/sub-BPA08_task-share_run-2_events.tsv\"\n",
      "[1] \"/data00/projects/bbprime/data/bids_data/sub-BPA08/func/sub-BPA08_task-share_run-3_events.tsv\"\n",
      "[1] \"/data00/projects/bbprime/data/bids_data/sub-BPA09/func/sub-BPA09_task-share_run-1_events.tsv\"\n",
      "[1] \"/data00/projects/bbprime/data/bids_data/sub-BPA09/func/sub-BPA09_task-share_run-2_events.tsv\"\n",
      "[1] \"/data00/projects/bbprime/data/bids_data/sub-BPA10/func/sub-BPA10_task-share_run-1_events.tsv\"\n",
      "[1] \"/data00/projects/bbprime/data/bids_data/sub-BPA10/func/sub-BPA10_task-share_run-2_events.tsv\"\n",
      "[1] \"/data00/projects/bbprime/data/bids_data/sub-BPA11/func/sub-BPA11_task-share_run-1_events.tsv\"\n",
      "[1] \"/data00/projects/bbprime/data/bids_data/sub-BPA11/func/sub-BPA11_task-share_run-2_events.tsv\"\n",
      "[1] \"/data00/projects/bbprime/data/bids_data/sub-BPA11/func/sub-BPA11_task-share_run-3_events.tsv\"\n",
      "[1] \"/data00/projects/bbprime/data/bids_data/sub-BPA12/func/sub-BPA12_task-share_run-1_events.tsv\"\n",
      "[1] \"/data00/projects/bbprime/data/bids_data/sub-BPA12/func/sub-BPA12_task-share_run-2_events.tsv\"\n",
      "[1] \"/data00/projects/bbprime/data/bids_data/sub-BPA14/func/sub-BPA14_task-share_run-1_events.tsv\"\n",
      "[1] \"/data00/projects/bbprime/data/bids_data/sub-BPA14/func/sub-BPA14_task-share_run-2_events.tsv\"\n",
      "[1] \"/data00/projects/bbprime/data/bids_data/sub-BPA14/func/sub-BPA14_task-share_run-3_events.tsv\"\n",
      "[1] \"/data00/projects/bbprime/data/bids_data/sub-BPA15/func/sub-BPA15_task-share_run-1_events.tsv\"\n",
      "[1] \"/data00/projects/bbprime/data/bids_data/sub-BPA15/func/sub-BPA15_task-share_run-2_events.tsv\"\n",
      "[1] \"/data00/projects/bbprime/data/bids_data/sub-BPA15/func/sub-BPA15_task-share_run-3_events.tsv\"\n",
      "[1] \"/data00/projects/bbprime/data/bids_data/sub-BPA16/func/sub-BPA16_task-share_run-1_events.tsv\"\n",
      "[1] \"/data00/projects/bbprime/data/bids_data/sub-BPA16/func/sub-BPA16_task-share_run-2_events.tsv\"\n",
      "[1] \"/data00/projects/bbprime/data/bids_data/sub-BPA16/func/sub-BPA16_task-share_run-3_events.tsv\"\n",
      "[1] \"/data00/projects/bbprime/data/bids_data/sub-BPA17/func/sub-BPA17_task-share_run-1_events.tsv\"\n",
      "[1] \"/data00/projects/bbprime/data/bids_data/sub-BPA17/func/sub-BPA17_task-share_run-2_events.tsv\"\n",
      "[1] \"/data00/projects/bbprime/data/bids_data/sub-BPA17/func/sub-BPA17_task-share_run-3_events.tsv\"\n",
      "[1] \"/data00/projects/bbprime/data/bids_data/sub-BPA18/func/sub-BPA18_task-share_run-1_events.tsv\"\n",
      "[1] \"/data00/projects/bbprime/data/bids_data/sub-BPA18/func/sub-BPA18_task-share_run-2_events.tsv\"\n",
      "[1] \"/data00/projects/bbprime/data/bids_data/sub-BPA18/func/sub-BPA18_task-share_run-3_events.tsv\"\n",
      "[1] \"/data00/projects/bbprime/data/bids_data/sub-BPA19/func/sub-BPA19_task-share_run-1_events.tsv\"\n",
      "[1] \"/data00/projects/bbprime/data/bids_data/sub-BPA19/func/sub-BPA19_task-share_run-2_events.tsv\"\n",
      "[1] \"/data00/projects/bbprime/data/bids_data/sub-BPA19/func/sub-BPA19_task-share_run-3_events.tsv\"\n",
      "[1] \"/data00/projects/bbprime/data/bids_data/sub-BPA21/func/sub-BPA21_task-share_run-1_events.tsv\"\n",
      "[1] \"/data00/projects/bbprime/data/bids_data/sub-BPA21/func/sub-BPA21_task-share_run-2_events.tsv\"\n",
      "[1] \"/data00/projects/bbprime/data/bids_data/sub-BPA21/func/sub-BPA21_task-share_run-3_events.tsv\"\n",
      "[1] \"/data00/projects/bbprime/data/bids_data/sub-BPA22/func/sub-BPA22_task-share_run-1_events.tsv\"\n"
     ]
    },
    {
     "name": "stderr",
     "output_type": "stream",
     "text": [
      "Warning message in file(file, ifelse(append, \"a\", \"w\")):\n",
      "“cannot open file '/data00/projects/bbprime/data/bids_data/sub-BPA22/func/sub-BPA22_task-share_run-1_events.tsv': No such file or directory”\n",
      "/data00/projects/bbprime/data/task_logs/task_scanner/task_share/sub-BPA22_run-01_task2.csv\n",
      "\n"
     ]
    },
    {
     "name": "stdout",
     "output_type": "stream",
     "text": [
      "[1] \"/data00/projects/bbprime/data/bids_data/sub-BPA22/func/sub-BPA22_task-share_run-2_events.tsv\"\n"
     ]
    },
    {
     "name": "stderr",
     "output_type": "stream",
     "text": [
      "Warning message in file(file, ifelse(append, \"a\", \"w\")):\n",
      "“cannot open file '/data00/projects/bbprime/data/bids_data/sub-BPA22/func/sub-BPA22_task-share_run-2_events.tsv': No such file or directory”\n",
      "/data00/projects/bbprime/data/task_logs/task_scanner/task_share/sub-BPA22_run-02_task2.csv\n",
      "\n"
     ]
    },
    {
     "name": "stdout",
     "output_type": "stream",
     "text": [
      "[1] \"/data00/projects/bbprime/data/bids_data/sub-BPA22/func/sub-BPA22_task-share_run-3_events.tsv\"\n"
     ]
    },
    {
     "name": "stderr",
     "output_type": "stream",
     "text": [
      "Warning message in file(file, ifelse(append, \"a\", \"w\")):\n",
      "“cannot open file '/data00/projects/bbprime/data/bids_data/sub-BPA22/func/sub-BPA22_task-share_run-3_events.tsv': No such file or directory”\n",
      "/data00/projects/bbprime/data/task_logs/task_scanner/task_share/sub-BPA22_run-03_task2.csv\n",
      "\n"
     ]
    },
    {
     "name": "stdout",
     "output_type": "stream",
     "text": [
      "[1] \"/data00/projects/bbprime/data/bids_data/sub-BPA23/func/sub-BPA23_task-share_run-1_events.tsv\"\n",
      "[1] \"/data00/projects/bbprime/data/bids_data/sub-BPA23/func/sub-BPA23_task-share_run-2_events.tsv\"\n",
      "[1] \"/data00/projects/bbprime/data/bids_data/sub-BPA23/func/sub-BPA23_task-share_run-3_events.tsv\"\n",
      "[1] \"/data00/projects/bbprime/data/bids_data/sub-BPA26/func/sub-BPA26_task-share_run-1_events.tsv\"\n",
      "[1] \"/data00/projects/bbprime/data/bids_data/sub-BPA26/func/sub-BPA26_task-share_run-2_events.tsv\"\n",
      "[1] \"/data00/projects/bbprime/data/bids_data/sub-BPA26/func/sub-BPA26_task-share_run-3_events.tsv\"\n",
      "[1] \"/data00/projects/bbprime/data/bids_data/sub-BPA27/func/sub-BPA27_task-share_run-1_events.tsv\"\n",
      "[1] \"/data00/projects/bbprime/data/bids_data/sub-BPA27/func/sub-BPA27_task-share_run-2_events.tsv\"\n",
      "[1] \"/data00/projects/bbprime/data/bids_data/sub-BPA27/func/sub-BPA27_task-share_run-3_events.tsv\"\n",
      "[1] \"/data00/projects/bbprime/data/bids_data/sub-BPA28/func/sub-BPA28_task-share_run-1_events.tsv\"\n",
      "[1] \"/data00/projects/bbprime/data/bids_data/sub-BPA28/func/sub-BPA28_task-share_run-2_events.tsv\"\n",
      "[1] \"/data00/projects/bbprime/data/bids_data/sub-BPA28/func/sub-BPA28_task-share_run-3_events.tsv\"\n",
      "[1] \"/data00/projects/bbprime/data/bids_data/sub-BPA29/func/sub-BPA29_task-share_run-1_events.tsv\"\n",
      "[1] \"/data00/projects/bbprime/data/bids_data/sub-BPA29/func/sub-BPA29_task-share_run-2_events.tsv\"\n",
      "[1] \"/data00/projects/bbprime/data/bids_data/sub-BPA29/func/sub-BPA29_task-share_run-3_events.tsv\"\n",
      "[1] \"/data00/projects/bbprime/data/bids_data/sub-BPA30/func/sub-BPA30_task-share_run-1_events.tsv\"\n",
      "[1] \"/data00/projects/bbprime/data/bids_data/sub-BPA30/func/sub-BPA30_task-share_run-2_events.tsv\"\n",
      "[1] \"/data00/projects/bbprime/data/bids_data/sub-BPA30/func/sub-BPA30_task-share_run-3_events.tsv\"\n",
      "[1] \"/data00/projects/bbprime/data/bids_data/sub-BPA31/func/sub-BPA31_task-share_run-1_events.tsv\"\n",
      "[1] \"/data00/projects/bbprime/data/bids_data/sub-BPA31/func/sub-BPA31_task-share_run-2_events.tsv\"\n",
      "[1] \"/data00/projects/bbprime/data/bids_data/sub-BPA31/func/sub-BPA31_task-share_run-3_events.tsv\"\n",
      "[1] \"/data00/projects/bbprime/data/bids_data/sub-BPA32/func/sub-BPA32_task-share_run-1_events.tsv\"\n",
      "[1] \"/data00/projects/bbprime/data/bids_data/sub-BPA32/func/sub-BPA32_task-share_run-2_events.tsv\"\n",
      "[1] \"/data00/projects/bbprime/data/bids_data/sub-BPA32/func/sub-BPA32_task-share_run-3_events.tsv\"\n",
      "[1] \"/data00/projects/bbprime/data/bids_data/sub-BPA33/func/sub-BPA33_task-share_run-1_events.tsv\"\n",
      "[1] \"/data00/projects/bbprime/data/bids_data/sub-BPA33/func/sub-BPA33_task-share_run-2_events.tsv\"\n",
      "[1] \"/data00/projects/bbprime/data/bids_data/sub-BPA33/func/sub-BPA33_task-share_run-3_events.tsv\"\n",
      "[1] \"/data00/projects/bbprime/data/bids_data/sub-BPA34/func/sub-BPA34_task-share_run-1_events.tsv\"\n",
      "[1] \"/data00/projects/bbprime/data/bids_data/sub-BPA34/func/sub-BPA34_task-share_run-2_events.tsv\"\n",
      "[1] \"/data00/projects/bbprime/data/bids_data/sub-BPA34/func/sub-BPA34_task-share_run-3_events.tsv\"\n",
      "[1] \"/data00/projects/bbprime/data/bids_data/sub-BPA35/func/sub-BPA35_task-share_run-1_events.tsv\"\n",
      "[1] \"/data00/projects/bbprime/data/bids_data/sub-BPA35/func/sub-BPA35_task-share_run-2_events.tsv\"\n",
      "[1] \"/data00/projects/bbprime/data/bids_data/sub-BPA35/func/sub-BPA35_task-share_run-3_events.tsv\"\n",
      "[1] \"/data00/projects/bbprime/data/bids_data/sub-BPA36/func/sub-BPA36_task-share_run-1_events.tsv\"\n",
      "[1] \"/data00/projects/bbprime/data/bids_data/sub-BPA36/func/sub-BPA36_task-share_run-2_events.tsv\"\n",
      "[1] \"/data00/projects/bbprime/data/bids_data/sub-BPA36/func/sub-BPA36_task-share_run-3_events.tsv\"\n",
      "[1] \"/data00/projects/bbprime/data/bids_data/sub-BPA37/func/sub-BPA37_task-share_run-1_events.tsv\"\n",
      "[1] \"/data00/projects/bbprime/data/bids_data/sub-BPA37/func/sub-BPA37_task-share_run-2_events.tsv\"\n",
      "[1] \"/data00/projects/bbprime/data/bids_data/sub-BPA37/func/sub-BPA37_task-share_run-3_events.tsv\"\n",
      "[1] \"/data00/projects/bbprime/data/bids_data/sub-BPA38/func/sub-BPA38_task-share_run-1_events.tsv\"\n",
      "[1] \"/data00/projects/bbprime/data/bids_data/sub-BPA38/func/sub-BPA38_task-share_run-2_events.tsv\"\n",
      "[1] \"/data00/projects/bbprime/data/bids_data/sub-BPA38/func/sub-BPA38_task-share_run-3_events.tsv\"\n",
      "[1] \"/data00/projects/bbprime/data/bids_data/sub-BPA41/func/sub-BPA41_task-share_run-1_events.tsv\"\n",
      "[1] \"/data00/projects/bbprime/data/bids_data/sub-BPA41/func/sub-BPA41_task-share_run-2_events.tsv\"\n",
      "[1] \"/data00/projects/bbprime/data/bids_data/sub-BPA41/func/sub-BPA41_task-share_run-3_events.tsv\"\n",
      "[1] \"/data00/projects/bbprime/data/bids_data/sub-BPA42/func/sub-BPA42_task-share_run-1_events.tsv\"\n",
      "[1] \"/data00/projects/bbprime/data/bids_data/sub-BPA42/func/sub-BPA42_task-share_run-2_events.tsv\"\n",
      "[1] \"/data00/projects/bbprime/data/bids_data/sub-BPA42/func/sub-BPA42_task-share_run-3_events.tsv\"\n",
      "[1] \"/data00/projects/bbprime/data/bids_data/sub-BPA43/func/sub-BPA43_task-share_run-1_events.tsv\"\n",
      "[1] \"/data00/projects/bbprime/data/bids_data/sub-BPA43/func/sub-BPA43_task-share_run-2_events.tsv\"\n",
      "[1] \"/data00/projects/bbprime/data/bids_data/sub-BPA43/func/sub-BPA43_task-share_run-3_events.tsv\"\n",
      "[1] \"/data00/projects/bbprime/data/bids_data/sub-BPA44/func/sub-BPA44_task-share_run-1_events.tsv\"\n",
      "[1] \"/data00/projects/bbprime/data/bids_data/sub-BPA44/func/sub-BPA44_task-share_run-2_events.tsv\"\n",
      "[1] \"/data00/projects/bbprime/data/bids_data/sub-BPA44/func/sub-BPA44_task-share_run-3_events.tsv\"\n",
      "[1] \"/data00/projects/bbprime/data/bids_data/sub-BPA45/func/sub-BPA45_task-share_run-1_events.tsv\"\n",
      "[1] \"/data00/projects/bbprime/data/bids_data/sub-BPA45/func/sub-BPA45_task-share_run-2_events.tsv\"\n",
      "[1] \"/data00/projects/bbprime/data/bids_data/sub-BPA45/func/sub-BPA45_task-share_run-3_events.tsv\"\n",
      "[1] \"/data00/projects/bbprime/data/bids_data/sub-BPA46/func/sub-BPA46_task-share_run-1_events.tsv\"\n",
      "[1] \"/data00/projects/bbprime/data/bids_data/sub-BPA46/func/sub-BPA46_task-share_run-2_events.tsv\"\n",
      "[1] \"/data00/projects/bbprime/data/bids_data/sub-BPA46/func/sub-BPA46_task-share_run-3_events.tsv\"\n",
      "[1] \"/data00/projects/bbprime/data/bids_data/sub-BPA47/func/sub-BPA47_task-share_run-1_events.tsv\"\n",
      "[1] \"/data00/projects/bbprime/data/bids_data/sub-BPA47/func/sub-BPA47_task-share_run-2_events.tsv\"\n",
      "[1] \"/data00/projects/bbprime/data/bids_data/sub-BPA47/func/sub-BPA47_task-share_run-3_events.tsv\"\n",
      "[1] \"/data00/projects/bbprime/data/bids_data/sub-BPA48/func/sub-BPA48_task-share_run-1_events.tsv\"\n",
      "[1] \"/data00/projects/bbprime/data/bids_data/sub-BPA48/func/sub-BPA48_task-share_run-2_events.tsv\"\n",
      "[1] \"/data00/projects/bbprime/data/bids_data/sub-BPA48/func/sub-BPA48_task-share_run-3_events.tsv\"\n",
      "[1] \"/data00/projects/bbprime/data/bids_data/sub-BPP04/func/sub-BPP04_task-share_run-1_events.tsv\"\n",
      "[1] \"/data00/projects/bbprime/data/bids_data/sub-BPP04/func/sub-BPP04_task-share_run-2_events.tsv\"\n",
      "[1] \"/data00/projects/bbprime/data/bids_data/sub-BPP04/func/sub-BPP04_task-share_run-3_events.tsv\"\n",
      "[1] \"/data00/projects/bbprime/data/bids_data/sub-BPP05/func/sub-BPP05_task-share_run-1_events.tsv\"\n",
      "[1] \"/data00/projects/bbprime/data/bids_data/sub-BPP05/func/sub-BPP05_task-share_run-2_events.tsv\"\n",
      "[1] \"/data00/projects/bbprime/data/bids_data/sub-BPP05/func/sub-BPP05_task-share_run-3_events.tsv\"\n",
      "[1] \"/data00/projects/bbprime/data/bids_data/sub-BPP06/func/sub-BPP06_task-share_run-1_events.tsv\"\n",
      "[1] \"/data00/projects/bbprime/data/bids_data/sub-BPP06/func/sub-BPP06_task-share_run-2_events.tsv\"\n",
      "[1] \"/data00/projects/bbprime/data/bids_data/sub-BPP06/func/sub-BPP06_task-share_run-3_events.tsv\"\n",
      "[1] \"/data00/projects/bbprime/data/bids_data/sub-BPP07/func/sub-BPP07_task-share_run-1_events.tsv\"\n",
      "[1] \"/data00/projects/bbprime/data/bids_data/sub-BPP07/func/sub-BPP07_task-share_run-2_events.tsv\"\n",
      "[1] \"/data00/projects/bbprime/data/bids_data/sub-BPP07/func/sub-BPP07_task-share_run-3_events.tsv\"\n",
      "[1] \"/data00/projects/bbprime/data/bids_data/sub-BPP11/func/sub-BPP11_task-share_run-1_events.tsv\"\n",
      "[1] \"/data00/projects/bbprime/data/bids_data/sub-BPP11/func/sub-BPP11_task-share_run-2_events.tsv\"\n",
      "[1] \"/data00/projects/bbprime/data/bids_data/sub-BPP11/func/sub-BPP11_task-share_run-3_events.tsv\"\n",
      "[1] \"/data00/projects/bbprime/data/bids_data/sub-BPP12/func/sub-BPP12_task-share_run-1_events.tsv\"\n",
      "[1] \"/data00/projects/bbprime/data/bids_data/sub-BPP12/func/sub-BPP12_task-share_run-2_events.tsv\"\n",
      "[1] \"/data00/projects/bbprime/data/bids_data/sub-BPP12/func/sub-BPP12_task-share_run-3_events.tsv\"\n",
      "[1] \"/data00/projects/bbprime/data/bids_data/sub-BPP13/func/sub-BPP13_task-share_run-1_events.tsv\"\n",
      "[1] \"/data00/projects/bbprime/data/bids_data/sub-BPP13/func/sub-BPP13_task-share_run-2_events.tsv\"\n",
      "[1] \"/data00/projects/bbprime/data/bids_data/sub-BPP13/func/sub-BPP13_task-share_run-3_events.tsv\"\n",
      "[1] \"/data00/projects/bbprime/data/bids_data/sub-BPP15/func/sub-BPP15_task-share_run-1_events.tsv\"\n",
      "[1] \"/data00/projects/bbprime/data/bids_data/sub-BPP15/func/sub-BPP15_task-share_run-2_events.tsv\"\n",
      "[1] \"/data00/projects/bbprime/data/bids_data/sub-BPP15/func/sub-BPP15_task-share_run-3_events.tsv\"\n",
      "[1] \"/data00/projects/bbprime/data/bids_data/sub-BPP19/func/sub-BPP19_task-share_run-1_events.tsv\"\n",
      "[1] \"/data00/projects/bbprime/data/bids_data/sub-BPP19/func/sub-BPP19_task-share_run-2_events.tsv\"\n",
      "[1] \"/data00/projects/bbprime/data/bids_data/sub-BPP19/func/sub-BPP19_task-share_run-3_events.tsv\"\n",
      "[1] \"/data00/projects/bbprime/data/bids_data/sub-BPP20/func/sub-BPP20_task-share_run-1_events.tsv\"\n",
      "[1] \"/data00/projects/bbprime/data/bids_data/sub-BPP20/func/sub-BPP20_task-share_run-2_events.tsv\"\n",
      "[1] \"/data00/projects/bbprime/data/bids_data/sub-BPP20/func/sub-BPP20_task-share_run-3_events.tsv\"\n",
      "[1] \"/data00/projects/bbprime/data/bids_data/sub-BPP21/func/sub-BPP21_task-share_run-1_events.tsv\"\n",
      "[1] \"/data00/projects/bbprime/data/bids_data/sub-BPP21/func/sub-BPP21_task-share_run-2_events.tsv\"\n",
      "[1] \"/data00/projects/bbprime/data/bids_data/sub-BPP21/func/sub-BPP21_task-share_run-2_events.tsv\"\n",
      "[1] \"/data00/projects/bbprime/data/bids_data/sub-BPP21/func/sub-BPP21_task-share_run-3_events.tsv\"\n",
      "[1] \"/data00/projects/bbprime/data/bids_data/sub-BPP22/func/sub-BPP22_task-share_run-1_events.tsv\"\n",
      "[1] \"/data00/projects/bbprime/data/bids_data/sub-BPP22/func/sub-BPP22_task-share_run-2_events.tsv\"\n",
      "[1] \"/data00/projects/bbprime/data/bids_data/sub-BPP22/func/sub-BPP22_task-share_run-3_events.tsv\"\n",
      "[1] \"/data00/projects/bbprime/data/bids_data/sub-BPP22/func/sub-BPP22_task-share_run-3_events.tsv\"\n",
      "[1] \"/data00/projects/bbprime/data/bids_data/sub-BPP24/func/sub-BPP24_task-share_run-1_events.tsv\"\n",
      "[1] \"/data00/projects/bbprime/data/bids_data/sub-BPP24/func/sub-BPP24_task-share_run-2_events.tsv\"\n",
      "[1] \"/data00/projects/bbprime/data/bids_data/sub-BPP24/func/sub-BPP24_task-share_run-3_events.tsv\"\n",
      "[1] \"/data00/projects/bbprime/data/bids_data/sub-BPP25/func/sub-BPP25_task-share_run-1_events.tsv\"\n",
      "[1] \"/data00/projects/bbprime/data/bids_data/sub-BPP25/func/sub-BPP25_task-share_run-2_events.tsv\"\n",
      "[1] \"/data00/projects/bbprime/data/bids_data/sub-BPP25/func/sub-BPP25_task-share_run-3_events.tsv\"\n",
      "[1] \"/data00/projects/bbprime/data/bids_data/sub-BPP26/func/sub-BPP26_task-share_run-1_events.tsv\"\n",
      "[1] \"/data00/projects/bbprime/data/bids_data/sub-BPP26/func/sub-BPP26_task-share_run-2_events.tsv\"\n",
      "[1] \"/data00/projects/bbprime/data/bids_data/sub-BPP26/func/sub-BPP26_task-share_run-3_events.tsv\"\n",
      "[1] \"/data00/projects/bbprime/data/bids_data/sub-BPP29/func/sub-BPP29_task-share_run-1_events.tsv\"\n",
      "[1] \"/data00/projects/bbprime/data/bids_data/sub-BPP29/func/sub-BPP29_task-share_run-2_events.tsv\"\n",
      "[1] \"/data00/projects/bbprime/data/bids_data/sub-BPP29/func/sub-BPP29_task-share_run-3_events.tsv\"\n",
      "[1] \"/data00/projects/bbprime/data/bids_data/sub-BPP30/func/sub-BPP30_task-share_run-1_events.tsv\"\n",
      "[1] \"/data00/projects/bbprime/data/bids_data/sub-BPP30/func/sub-BPP30_task-share_run-2_events.tsv\"\n",
      "[1] \"/data00/projects/bbprime/data/bids_data/sub-BPP30/func/sub-BPP30_task-share_run-3_events.tsv\"\n",
      "[1] \"/data00/projects/bbprime/data/bids_data/sub-BPP33/func/sub-BPP33_task-share_run-1_events.tsv\"\n",
      "[1] \"/data00/projects/bbprime/data/bids_data/sub-BPP33/func/sub-BPP33_task-share_run-2_events.tsv\"\n",
      "[1] \"/data00/projects/bbprime/data/bids_data/sub-BPP33/func/sub-BPP33_task-share_run-3_events.tsv\"\n",
      "[1] \"/data00/projects/bbprime/data/bids_data/sub-BPP34/func/sub-BPP34_task-share_run-1_events.tsv\"\n",
      "[1] \"/data00/projects/bbprime/data/bids_data/sub-BPP34/func/sub-BPP34_task-share_run-2_events.tsv\"\n",
      "[1] \"/data00/projects/bbprime/data/bids_data/sub-BPP34/func/sub-BPP34_task-share_run-3_events.tsv\"\n",
      "[1] \"/data00/projects/bbprime/data/bids_data/sub-BPP36/func/sub-BPP36_task-share_run-1_events.tsv\"\n",
      "[1] \"/data00/projects/bbprime/data/bids_data/sub-BPP36/func/sub-BPP36_task-share_run-2_events.tsv\"\n",
      "[1] \"/data00/projects/bbprime/data/bids_data/sub-BPP36/func/sub-BPP36_task-share_run-3_events.tsv\"\n",
      "[1] \"/data00/projects/bbprime/data/bids_data/sub-BPP37/func/sub-BPP37_task-share_run-1_events.tsv\"\n",
      "[1] \"/data00/projects/bbprime/data/bids_data/sub-BPP37/func/sub-BPP37_task-share_run-2_events.tsv\"\n",
      "[1] \"/data00/projects/bbprime/data/bids_data/sub-BPP37/func/sub-BPP37_task-share_run-3_events.tsv\"\n",
      "[1] \"/data00/projects/bbprime/data/bids_data/sub-BPP38/func/sub-BPP38_task-share_run-1_events.tsv\"\n",
      "[1] \"/data00/projects/bbprime/data/bids_data/sub-BPP38/func/sub-BPP38_task-share_run-2_events.tsv\"\n",
      "[1] \"/data00/projects/bbprime/data/bids_data/sub-BPP38/func/sub-BPP38_task-share_run-3_events.tsv\"\n",
      "[1] \"/data00/projects/bbprime/data/bids_data/sub-BPP40/func/sub-BPP40_task-share_run-1_events.tsv\"\n",
      "[1] \"/data00/projects/bbprime/data/bids_data/sub-BPP40/func/sub-BPP40_task-share_run-2_events.tsv\"\n",
      "[1] \"/data00/projects/bbprime/data/bids_data/sub-BPP40/func/sub-BPP40_task-share_run-3_events.tsv\"\n",
      "[1] \"/data00/projects/bbprime/data/bids_data/sub-BPP41/func/sub-BPP41_task-share_run-1_events.tsv\"\n",
      "[1] \"/data00/projects/bbprime/data/bids_data/sub-BPP41/func/sub-BPP41_task-share_run-2_events.tsv\"\n",
      "[1] \"/data00/projects/bbprime/data/bids_data/sub-BPP41/func/sub-BPP41_task-share_run-3_events.tsv\"\n",
      "[1] \"/data00/projects/bbprime/data/bids_data/sub-BPP42/func/sub-BPP42_task-share_run-1_events.tsv\"\n",
      "[1] \"/data00/projects/bbprime/data/bids_data/sub-BPP42/func/sub-BPP42_task-share_run-2_events.tsv\"\n",
      "[1] \"/data00/projects/bbprime/data/bids_data/sub-BPP42/func/sub-BPP42_task-share_run-3_events.tsv\"\n",
      "[1] \"/data00/projects/bbprime/data/bids_data/sub-BPP43/func/sub-BPP43_task-share_run-1_events.tsv\"\n",
      "[1] \"/data00/projects/bbprime/data/bids_data/sub-BPP43/func/sub-BPP43_task-share_run-2_events.tsv\"\n",
      "[1] \"/data00/projects/bbprime/data/bids_data/sub-BPP43/func/sub-BPP43_task-share_run-3_events.tsv\"\n",
      "[1] \"/data00/projects/bbprime/data/bids_data/sub-BPP44/func/sub-BPP44_task-share_run-1_events.tsv\"\n",
      "[1] \"/data00/projects/bbprime/data/bids_data/sub-BPP44/func/sub-BPP44_task-share_run-2_events.tsv\"\n",
      "[1] \"/data00/projects/bbprime/data/bids_data/sub-BPP44/func/sub-BPP44_task-share_run-3_events.tsv\"\n",
      "[1] \"/data00/projects/bbprime/data/bids_data/sub-BPP46/func/sub-BPP46_task-share_run-1_events.tsv\"\n",
      "[1] \"/data00/projects/bbprime/data/bids_data/sub-BPP46/func/sub-BPP46_task-share_run-2_events.tsv\"\n",
      "[1] \"/data00/projects/bbprime/data/bids_data/sub-BPP46/func/sub-BPP46_task-share_run-3_events.tsv\"\n",
      "[1] \"/data00/projects/bbprime/data/bids_data/sub-BPP47/func/sub-BPP47_task-share_run-1_events.tsv\"\n",
      "[1] \"/data00/projects/bbprime/data/bids_data/sub-BPP47/func/sub-BPP47_task-share_run-2_events.tsv\"\n",
      "[1] \"/data00/projects/bbprime/data/bids_data/sub-BPP47/func/sub-BPP47_task-share_run-3_events.tsv\"\n",
      "[1] \"/data00/projects/bbprime/data/bids_data/sub-BPP49/func/sub-BPP49_task-share_run-1_events.tsv\"\n",
      "[1] \"/data00/projects/bbprime/data/bids_data/sub-BPP49/func/sub-BPP49_task-share_run-2_events.tsv\"\n",
      "[1] \"/data00/projects/bbprime/data/bids_data/sub-BPP49/func/sub-BPP49_task-share_run-3_events.tsv\"\n",
      "[1] \"/data00/projects/bbprime/data/bids_data/sub-BPP51/func/sub-BPP51_task-share_run-1_events.tsv\"\n",
      "[1] \"/data00/projects/bbprime/data/bids_data/sub-BPP51/func/sub-BPP51_task-share_run-2_events.tsv\"\n",
      "[1] \"/data00/projects/bbprime/data/bids_data/sub-BPP51/func/sub-BPP51_task-share_run-3_events.tsv\"\n",
      "[1] \"/data00/projects/bbprime/data/bids_data/sub-BPP52/func/sub-BPP52_task-share_run-1_events.tsv\"\n",
      "[1] \"/data00/projects/bbprime/data/bids_data/sub-BPP52/func/sub-BPP52_task-share_run-2_events.tsv\"\n",
      "[1] \"/data00/projects/bbprime/data/bids_data/sub-BPP52/func/sub-BPP52_task-share_run-3_events.tsv\"\n",
      "[1] \"/data00/projects/bbprime/data/bids_data/sub-BPP53/func/sub-BPP53_task-share_run-1_events.tsv\"\n",
      "[1] \"/data00/projects/bbprime/data/bids_data/sub-BPP53/func/sub-BPP53_task-share_run-2_events.tsv\"\n",
      "[1] \"/data00/projects/bbprime/data/bids_data/sub-BPP53/func/sub-BPP53_task-share_run-3_events.tsv\"\n",
      "[1] \"/data00/projects/bbprime/data/bids_data/sub-BPP54/func/sub-BPP54_task-share_run-1_events.tsv\"\n",
      "[1] \"/data00/projects/bbprime/data/bids_data/sub-BPP54/func/sub-BPP54_task-share_run-2_events.tsv\"\n",
      "[1] \"/data00/projects/bbprime/data/bids_data/sub-BPP54/func/sub-BPP54_task-share_run-3_events.tsv\"\n",
      "[1] \"/data00/projects/bbprime/data/bids_data/sub-BPP56/func/sub-BPP56_task-share_run-1_events.tsv\"\n",
      "[1] \"/data00/projects/bbprime/data/bids_data/sub-BPP56/func/sub-BPP56_task-share_run-2_events.tsv\"\n",
      "[1] \"/data00/projects/bbprime/data/bids_data/sub-BPP56/func/sub-BPP56_task-share_run-3_events.tsv\"\n",
      "[1] \"/data00/projects/bbprime/data/bids_data/sub-BPP58/func/sub-BPP58_task-share_run-1_events.tsv\"\n",
      "[1] \"/data00/projects/bbprime/data/bids_data/sub-BPP58/func/sub-BPP58_task-share_run-2_events.tsv\"\n",
      "[1] \"/data00/projects/bbprime/data/bids_data/sub-BPP58/func/sub-BPP58_task-share_run-3_events.tsv\"\n",
      "[1] \"/data00/projects/bbprime/data/bids_data/sub-BPP60/func/sub-BPP60_task-share_run-1_events.tsv\"\n",
      "[1] \"/data00/projects/bbprime/data/bids_data/sub-BPP60/func/sub-BPP60_task-share_run-2_events.tsv\"\n",
      "[1] \"/data00/projects/bbprime/data/bids_data/sub-BPP60/func/sub-BPP60_task-share_run-3_events.tsv\"\n",
      "[1] \"/data00/projects/bbprime/data/bids_data/sub-BPP61/func/sub-BPP61_task-share_run-1_events.tsv\"\n",
      "[1] \"/data00/projects/bbprime/data/bids_data/sub-BPP61/func/sub-BPP61_task-share_run-2_events.tsv\"\n",
      "[1] \"/data00/projects/bbprime/data/bids_data/sub-BPP61/func/sub-BPP61_task-share_run-3_events.tsv\"\n",
      "[1] \"/data00/projects/bbprime/data/bids_data/sub-BPP62/func/sub-BPP62_task-share_run-1_events.tsv\"\n",
      "[1] \"/data00/projects/bbprime/data/bids_data/sub-BPP62/func/sub-BPP62_task-share_run-2_events.tsv\"\n",
      "[1] \"/data00/projects/bbprime/data/bids_data/sub-BPP62/func/sub-BPP62_task-share_run-3_events.tsv\"\n",
      "[1] \"/data00/projects/bbprime/data/bids_data/sub-BPP63/func/sub-BPP63_task-share_run-1_events.tsv\"\n",
      "[1] \"/data00/projects/bbprime/data/bids_data/sub-BPP63/func/sub-BPP63_task-share_run-2_events.tsv\"\n",
      "[1] \"/data00/projects/bbprime/data/bids_data/sub-BPP63/func/sub-BPP63_task-share_run-3_events.tsv\"\n",
      "[1] \"/data00/projects/bbprime/data/bids_data/sub-BPP64/func/sub-BPP64_task-share_run-1_events.tsv\"\n",
      "[1] \"/data00/projects/bbprime/data/bids_data/sub-BPP64/func/sub-BPP64_task-share_run-2_events.tsv\"\n",
      "[1] \"/data00/projects/bbprime/data/bids_data/sub-BPP64/func/sub-BPP64_task-share_run-3_events.tsv\"\n",
      "[1] \"/data00/projects/bbprime/data/bids_data/sub-BPP65/func/sub-BPP65_task-share_run-1_events.tsv\"\n",
      "[1] \"/data00/projects/bbprime/data/bids_data/sub-BPP65/func/sub-BPP65_task-share_run-2_events.tsv\"\n",
      "[1] \"/data00/projects/bbprime/data/bids_data/sub-BPP65/func/sub-BPP65_task-share_run-3_events.tsv\"\n",
      "[1] \"/data00/projects/bbprime/data/bids_data/sub-BPP66/func/sub-BPP66_task-share_run-1_events.tsv\"\n",
      "[1] \"/data00/projects/bbprime/data/bids_data/sub-BPP66/func/sub-BPP66_task-share_run-2_events.tsv\"\n",
      "[1] \"/data00/projects/bbprime/data/bids_data/sub-BPP66/func/sub-BPP66_task-share_run-3_events.tsv\"\n",
      "[1] \"/data00/projects/bbprime/data/bids_data/sub-BPP67/func/sub-BPP67_task-share_run-1_events.tsv\"\n",
      "[1] \"/data00/projects/bbprime/data/bids_data/sub-BPP67/func/sub-BPP67_task-share_run-2_events.tsv\"\n",
      "[1] \"/data00/projects/bbprime/data/bids_data/sub-BPP67/func/sub-BPP67_task-share_run-3_events.tsv\"\n",
      "[1] \"/data00/projects/bbprime/data/bids_data/sub-BPP68/func/sub-BPP68_task-share_run-1_events.tsv\"\n",
      "[1] \"/data00/projects/bbprime/data/bids_data/sub-BPP68/func/sub-BPP68_task-share_run-2_events.tsv\"\n",
      "[1] \"/data00/projects/bbprime/data/bids_data/sub-BPP68/func/sub-BPP68_task-share_run-3_events.tsv\"\n"
     ]
    }
   ],
   "source": [
    "files = fs::dir_ls(file_share_dir, regexp = \".*csv\")\n",
    "\n",
    "for (file in files) {\n",
    "    var_names = data.frame(file = file) %>% extract(file, \n",
    "                                                    c(\"task\", \"sub_id\", \"run_id\"),\n",
    "                                                    \"task_(share|read)/(sub-BPP[0-9]{2}|sub-BPA[0-9]{2})_run-0([1-3]{1}).*\")\n",
    "    sub_file = read.csv(file, stringsAsFactors = FALSE) %>%\n",
    "        mutate(key = ifelse(trial_type == \"rate\" & lead(trial_type) == \"keypress\", lead(key), key),\n",
    "               rt = ifelse(trial_type == \"rate\" & lead(trial_type) == \"keypress\", lead(rt), rt),\n",
    "               value = ifelse(trial_type == \"rate\" & lead(trial_type) == \"keypress\", lead(value), value),\n",
    "               event_name = ifelse(grepl(\"read\", trial_type), sprintf(\"%s_%s\", trial_type, index), trial_type)) %>%\n",
    "        filter(!trial_type == \"keypress\")\n",
    "    \n",
    "    file_path = file.path(bids_dir, var_names$sub_id, sprintf(\"func/%s_task-%s_run-%s_events.tsv\", var_names$sub_id, var_names$task, var_names$run_id))\n",
    "    \n",
    "    print(file_path)\n",
    "    tryCatch(write.table(sub_file, file_path, sep = \"\\t\", row.names = FALSE, quote = FALSE), error = function(e) message(file))\n",
    "}"
   ]
  },
  {
   "cell_type": "markdown",
   "metadata": {},
   "source": [
    "### read task"
   ]
  },
  {
   "cell_type": "code",
   "execution_count": 8,
   "metadata": {},
   "outputs": [
    {
     "name": "stdout",
     "output_type": "stream",
     "text": [
      "[1] \"/data00/projects/bbprime/data/bids_data/sub-BPA01/func/sub-BPA01_task-read_acq-Mb4Mm3Tr550_run-1_events.tsv\"\n"
     ]
    },
    {
     "name": "stderr",
     "output_type": "stream",
     "text": [
      "Warning message in file(file, ifelse(append, \"a\", \"w\")):\n",
      "“cannot open file '/data00/projects/bbprime/data/bids_data/sub-BPA01/func/sub-BPA01_task-read_acq-Mb4Mm3Tr550_run-1_events.tsv': Permission denied”\n",
      "/data00/projects/bbprime/data/task_logs/task_scanner/task_read/sub-BPA01_task1.csv\n",
      "\n"
     ]
    },
    {
     "name": "stdout",
     "output_type": "stream",
     "text": [
      "[1] \"/data00/projects/bbprime/data/bids_data/sub-BPA02/func/sub-BPA02_task-read_acq-Mb4Mm3Tr550_run-1_events.tsv\"\n"
     ]
    },
    {
     "name": "stderr",
     "output_type": "stream",
     "text": [
      "Warning message in file(file, ifelse(append, \"a\", \"w\")):\n",
      "“cannot open file '/data00/projects/bbprime/data/bids_data/sub-BPA02/func/sub-BPA02_task-read_acq-Mb4Mm3Tr550_run-1_events.tsv': Permission denied”\n",
      "/data00/projects/bbprime/data/task_logs/task_scanner/task_read/sub-BPA02_task1.csv\n",
      "\n"
     ]
    },
    {
     "name": "stdout",
     "output_type": "stream",
     "text": [
      "[1] \"/data00/projects/bbprime/data/bids_data/sub-BPA03/func/sub-BPA03_task-read_acq-Mb4Mm3Tr550_run-1_events.tsv\"\n"
     ]
    },
    {
     "name": "stderr",
     "output_type": "stream",
     "text": [
      "Warning message in file(file, ifelse(append, \"a\", \"w\")):\n",
      "“cannot open file '/data00/projects/bbprime/data/bids_data/sub-BPA03/func/sub-BPA03_task-read_acq-Mb4Mm3Tr550_run-1_events.tsv': Permission denied”\n",
      "/data00/projects/bbprime/data/task_logs/task_scanner/task_read/sub-BPA03_task1.csv\n",
      "\n"
     ]
    },
    {
     "name": "stdout",
     "output_type": "stream",
     "text": [
      "[1] \"/data00/projects/bbprime/data/bids_data/sub-BPA04/func/sub-BPA04_task-read_acq-Mb4Mm3Tr550_run-1_events.tsv\"\n"
     ]
    },
    {
     "name": "stderr",
     "output_type": "stream",
     "text": [
      "Warning message in file(file, ifelse(append, \"a\", \"w\")):\n",
      "“cannot open file '/data00/projects/bbprime/data/bids_data/sub-BPA04/func/sub-BPA04_task-read_acq-Mb4Mm3Tr550_run-1_events.tsv': Permission denied”\n",
      "/data00/projects/bbprime/data/task_logs/task_scanner/task_read/sub-BPA04_task1.csv\n",
      "\n"
     ]
    },
    {
     "name": "stdout",
     "output_type": "stream",
     "text": [
      "[1] \"/data00/projects/bbprime/data/bids_data/sub-BPA05/func/sub-BPA05_task-read_acq-Mb4Mm3Tr550_run-1_events.tsv\"\n"
     ]
    },
    {
     "name": "stderr",
     "output_type": "stream",
     "text": [
      "Warning message in file(file, ifelse(append, \"a\", \"w\")):\n",
      "“cannot open file '/data00/projects/bbprime/data/bids_data/sub-BPA05/func/sub-BPA05_task-read_acq-Mb4Mm3Tr550_run-1_events.tsv': Permission denied”\n",
      "/data00/projects/bbprime/data/task_logs/task_scanner/task_read/sub-BPA05_task1.csv\n",
      "\n"
     ]
    },
    {
     "name": "stdout",
     "output_type": "stream",
     "text": [
      "[1] \"/data00/projects/bbprime/data/bids_data/sub-BPA06/func/sub-BPA06_task-read_acq-Mb4Mm3Tr550_run-1_events.tsv\"\n"
     ]
    },
    {
     "name": "stderr",
     "output_type": "stream",
     "text": [
      "Warning message in file(file, ifelse(append, \"a\", \"w\")):\n",
      "“cannot open file '/data00/projects/bbprime/data/bids_data/sub-BPA06/func/sub-BPA06_task-read_acq-Mb4Mm3Tr550_run-1_events.tsv': Permission denied”\n",
      "/data00/projects/bbprime/data/task_logs/task_scanner/task_read/sub-BPA06_task1.csv\n",
      "\n"
     ]
    },
    {
     "name": "stdout",
     "output_type": "stream",
     "text": [
      "[1] \"/data00/projects/bbprime/data/bids_data/sub-BPA08/func/sub-BPA08_task-read_acq-Mb4Mm3Tr550_run-1_events.tsv\"\n"
     ]
    },
    {
     "name": "stderr",
     "output_type": "stream",
     "text": [
      "Warning message in file(file, ifelse(append, \"a\", \"w\")):\n",
      "“cannot open file '/data00/projects/bbprime/data/bids_data/sub-BPA08/func/sub-BPA08_task-read_acq-Mb4Mm3Tr550_run-1_events.tsv': Permission denied”\n",
      "/data00/projects/bbprime/data/task_logs/task_scanner/task_read/sub-BPA08_task1.csv\n",
      "\n"
     ]
    },
    {
     "name": "stdout",
     "output_type": "stream",
     "text": [
      "[1] \"/data00/projects/bbprime/data/bids_data/sub-BPA09/func/sub-BPA09_task-read_acq-Mb4Mm3Tr550_run-1_events.tsv\"\n"
     ]
    },
    {
     "name": "stderr",
     "output_type": "stream",
     "text": [
      "Warning message in file(file, ifelse(append, \"a\", \"w\")):\n",
      "“cannot open file '/data00/projects/bbprime/data/bids_data/sub-BPA09/func/sub-BPA09_task-read_acq-Mb4Mm3Tr550_run-1_events.tsv': Permission denied”\n",
      "/data00/projects/bbprime/data/task_logs/task_scanner/task_read/sub-BPA09_task1.csv\n",
      "\n"
     ]
    },
    {
     "name": "stdout",
     "output_type": "stream",
     "text": [
      "[1] \"/data00/projects/bbprime/data/bids_data/sub-BPA10/func/sub-BPA10_task-read_acq-Mb4Mm3Tr550_run-1_events.tsv\"\n"
     ]
    },
    {
     "name": "stderr",
     "output_type": "stream",
     "text": [
      "Warning message in file(file, ifelse(append, \"a\", \"w\")):\n",
      "“cannot open file '/data00/projects/bbprime/data/bids_data/sub-BPA10/func/sub-BPA10_task-read_acq-Mb4Mm3Tr550_run-1_events.tsv': Permission denied”\n",
      "/data00/projects/bbprime/data/task_logs/task_scanner/task_read/sub-BPA10_task1.csv\n",
      "\n"
     ]
    },
    {
     "name": "stdout",
     "output_type": "stream",
     "text": [
      "[1] \"/data00/projects/bbprime/data/bids_data/sub-BPA11/func/sub-BPA11_task-read_acq-Mb4Mm3Tr550_run-1_events.tsv\"\n"
     ]
    },
    {
     "name": "stderr",
     "output_type": "stream",
     "text": [
      "Warning message in file(file, ifelse(append, \"a\", \"w\")):\n",
      "“cannot open file '/data00/projects/bbprime/data/bids_data/sub-BPA11/func/sub-BPA11_task-read_acq-Mb4Mm3Tr550_run-1_events.tsv': Permission denied”\n",
      "/data00/projects/bbprime/data/task_logs/task_scanner/task_read/sub-BPA11_task1.csv\n",
      "\n"
     ]
    },
    {
     "name": "stdout",
     "output_type": "stream",
     "text": [
      "[1] \"/data00/projects/bbprime/data/bids_data/sub-BPA12/func/sub-BPA12_task-read_acq-Mb4Mm3Tr550_run-1_events.tsv\"\n"
     ]
    },
    {
     "name": "stderr",
     "output_type": "stream",
     "text": [
      "Warning message in file(file, ifelse(append, \"a\", \"w\")):\n",
      "“cannot open file '/data00/projects/bbprime/data/bids_data/sub-BPA12/func/sub-BPA12_task-read_acq-Mb4Mm3Tr550_run-1_events.tsv': Permission denied”\n",
      "/data00/projects/bbprime/data/task_logs/task_scanner/task_read/sub-BPA12_task1.csv\n",
      "\n"
     ]
    },
    {
     "name": "stdout",
     "output_type": "stream",
     "text": [
      "[1] \"/data00/projects/bbprime/data/bids_data/sub-BPA14/func/sub-BPA14_task-read_acq-Mb4Mm3Tr550_run-1_events.tsv\"\n"
     ]
    },
    {
     "name": "stderr",
     "output_type": "stream",
     "text": [
      "Warning message in file(file, ifelse(append, \"a\", \"w\")):\n",
      "“cannot open file '/data00/projects/bbprime/data/bids_data/sub-BPA14/func/sub-BPA14_task-read_acq-Mb4Mm3Tr550_run-1_events.tsv': Permission denied”\n",
      "/data00/projects/bbprime/data/task_logs/task_scanner/task_read/sub-BPA14_task1.csv\n",
      "\n"
     ]
    },
    {
     "name": "stdout",
     "output_type": "stream",
     "text": [
      "[1] \"/data00/projects/bbprime/data/bids_data/sub-BPA15/func/sub-BPA15_task-read_acq-Mb4Mm3Tr550_run-1_events.tsv\"\n"
     ]
    },
    {
     "name": "stderr",
     "output_type": "stream",
     "text": [
      "Warning message in file(file, ifelse(append, \"a\", \"w\")):\n",
      "“cannot open file '/data00/projects/bbprime/data/bids_data/sub-BPA15/func/sub-BPA15_task-read_acq-Mb4Mm3Tr550_run-1_events.tsv': Permission denied”\n",
      "/data00/projects/bbprime/data/task_logs/task_scanner/task_read/sub-BPA15_task1.csv\n",
      "\n"
     ]
    },
    {
     "name": "stdout",
     "output_type": "stream",
     "text": [
      "[1] \"/data00/projects/bbprime/data/bids_data/sub-BPA16/func/sub-BPA16_task-read_acq-Mb4Mm3Tr550_run-1_events.tsv\"\n"
     ]
    },
    {
     "name": "stderr",
     "output_type": "stream",
     "text": [
      "Warning message in file(file, ifelse(append, \"a\", \"w\")):\n",
      "“cannot open file '/data00/projects/bbprime/data/bids_data/sub-BPA16/func/sub-BPA16_task-read_acq-Mb4Mm3Tr550_run-1_events.tsv': Permission denied”\n",
      "/data00/projects/bbprime/data/task_logs/task_scanner/task_read/sub-BPA16_task1.csv\n",
      "\n"
     ]
    },
    {
     "name": "stdout",
     "output_type": "stream",
     "text": [
      "[1] \"/data00/projects/bbprime/data/bids_data/sub-BPA17/func/sub-BPA17_task-read_acq-Mb4Mm3Tr550_run-1_events.tsv\"\n",
      "[1] \"/data00/projects/bbprime/data/bids_data/sub-BPA18/func/sub-BPA18_task-read_acq-Mb4Mm3Tr550_run-1_events.tsv\"\n"
     ]
    },
    {
     "name": "stderr",
     "output_type": "stream",
     "text": [
      "Warning message in file(file, ifelse(append, \"a\", \"w\")):\n",
      "“cannot open file '/data00/projects/bbprime/data/bids_data/sub-BPA18/func/sub-BPA18_task-read_acq-Mb4Mm3Tr550_run-1_events.tsv': Permission denied”\n",
      "/data00/projects/bbprime/data/task_logs/task_scanner/task_read/sub-BPA18_task1.csv\n",
      "\n"
     ]
    },
    {
     "name": "stdout",
     "output_type": "stream",
     "text": [
      "[1] \"/data00/projects/bbprime/data/bids_data/sub-BPA19/func/sub-BPA19_task-read_acq-Mb4Mm3Tr550_run-1_events.tsv\"\n"
     ]
    },
    {
     "name": "stderr",
     "output_type": "stream",
     "text": [
      "Warning message in file(file, ifelse(append, \"a\", \"w\")):\n",
      "“cannot open file '/data00/projects/bbprime/data/bids_data/sub-BPA19/func/sub-BPA19_task-read_acq-Mb4Mm3Tr550_run-1_events.tsv': Permission denied”\n",
      "/data00/projects/bbprime/data/task_logs/task_scanner/task_read/sub-BPA19_task1.csv\n",
      "\n"
     ]
    },
    {
     "name": "stdout",
     "output_type": "stream",
     "text": [
      "[1] \"/data00/projects/bbprime/data/bids_data/sub-BPA21/func/sub-BPA21_task-read_acq-Mb4Mm3Tr550_run-1_events.tsv\"\n"
     ]
    },
    {
     "name": "stderr",
     "output_type": "stream",
     "text": [
      "Warning message in file(file, ifelse(append, \"a\", \"w\")):\n",
      "“cannot open file '/data00/projects/bbprime/data/bids_data/sub-BPA21/func/sub-BPA21_task-read_acq-Mb4Mm3Tr550_run-1_events.tsv': Permission denied”\n",
      "/data00/projects/bbprime/data/task_logs/task_scanner/task_read/sub-BPA21_task1.csv\n",
      "\n"
     ]
    },
    {
     "name": "stdout",
     "output_type": "stream",
     "text": [
      "[1] \"/data00/projects/bbprime/data/bids_data/sub-BPA22/func/sub-BPA22_task-read_acq-Mb4Mm3Tr550_run-1_events.tsv\"\n"
     ]
    },
    {
     "name": "stderr",
     "output_type": "stream",
     "text": [
      "Warning message in file(file, ifelse(append, \"a\", \"w\")):\n",
      "“cannot open file '/data00/projects/bbprime/data/bids_data/sub-BPA22/func/sub-BPA22_task-read_acq-Mb4Mm3Tr550_run-1_events.tsv': Permission denied”\n",
      "/data00/projects/bbprime/data/task_logs/task_scanner/task_read/sub-BPA22_task1.csv\n",
      "\n"
     ]
    },
    {
     "name": "stdout",
     "output_type": "stream",
     "text": [
      "[1] \"/data00/projects/bbprime/data/bids_data/sub-BPA23/func/sub-BPA23_task-read_acq-Mb4Mm3Tr550_run-1_events.tsv\"\n"
     ]
    },
    {
     "name": "stderr",
     "output_type": "stream",
     "text": [
      "Warning message in file(file, ifelse(append, \"a\", \"w\")):\n",
      "“cannot open file '/data00/projects/bbprime/data/bids_data/sub-BPA23/func/sub-BPA23_task-read_acq-Mb4Mm3Tr550_run-1_events.tsv': Permission denied”\n",
      "/data00/projects/bbprime/data/task_logs/task_scanner/task_read/sub-BPA23_task1.csv\n",
      "\n"
     ]
    },
    {
     "name": "stdout",
     "output_type": "stream",
     "text": [
      "[1] \"/data00/projects/bbprime/data/bids_data/sub-BPA26/func/sub-BPA26_task-read_acq-Mb4Mm3Tr550_run-1_events.tsv\"\n"
     ]
    },
    {
     "name": "stderr",
     "output_type": "stream",
     "text": [
      "Warning message in file(file, ifelse(append, \"a\", \"w\")):\n",
      "“cannot open file '/data00/projects/bbprime/data/bids_data/sub-BPA26/func/sub-BPA26_task-read_acq-Mb4Mm3Tr550_run-1_events.tsv': Permission denied”\n",
      "/data00/projects/bbprime/data/task_logs/task_scanner/task_read/sub-BPA26_task1.csv\n",
      "\n"
     ]
    },
    {
     "name": "stdout",
     "output_type": "stream",
     "text": [
      "[1] \"/data00/projects/bbprime/data/bids_data/sub-BPA27/func/sub-BPA27_task-read_acq-Mb4Mm3Tr550_run-1_events.tsv\"\n"
     ]
    },
    {
     "name": "stderr",
     "output_type": "stream",
     "text": [
      "Warning message in file(file, ifelse(append, \"a\", \"w\")):\n",
      "“cannot open file '/data00/projects/bbprime/data/bids_data/sub-BPA27/func/sub-BPA27_task-read_acq-Mb4Mm3Tr550_run-1_events.tsv': Permission denied”\n",
      "/data00/projects/bbprime/data/task_logs/task_scanner/task_read/sub-BPA27_task1.csv\n",
      "\n"
     ]
    },
    {
     "name": "stdout",
     "output_type": "stream",
     "text": [
      "[1] \"/data00/projects/bbprime/data/bids_data/sub-BPA28/func/sub-BPA28_task-read_acq-Mb4Mm3Tr550_run-1_events.tsv\"\n"
     ]
    },
    {
     "name": "stderr",
     "output_type": "stream",
     "text": [
      "Warning message in file(file, ifelse(append, \"a\", \"w\")):\n",
      "“cannot open file '/data00/projects/bbprime/data/bids_data/sub-BPA28/func/sub-BPA28_task-read_acq-Mb4Mm3Tr550_run-1_events.tsv': Permission denied”\n",
      "/data00/projects/bbprime/data/task_logs/task_scanner/task_read/sub-BPA28_task1.csv\n",
      "\n"
     ]
    },
    {
     "name": "stdout",
     "output_type": "stream",
     "text": [
      "[1] \"/data00/projects/bbprime/data/bids_data/sub-BPA29/func/sub-BPA29_task-read_acq-Mb4Mm3Tr550_run-1_events.tsv\"\n"
     ]
    },
    {
     "name": "stderr",
     "output_type": "stream",
     "text": [
      "Warning message in file(file, ifelse(append, \"a\", \"w\")):\n",
      "“cannot open file '/data00/projects/bbprime/data/bids_data/sub-BPA29/func/sub-BPA29_task-read_acq-Mb4Mm3Tr550_run-1_events.tsv': Permission denied”\n",
      "/data00/projects/bbprime/data/task_logs/task_scanner/task_read/sub-BPA29_task1.csv\n",
      "\n"
     ]
    },
    {
     "name": "stdout",
     "output_type": "stream",
     "text": [
      "[1] \"/data00/projects/bbprime/data/bids_data/sub-BPA30/func/sub-BPA30_task-read_acq-Mb4Mm3Tr550_run-1_events.tsv\"\n"
     ]
    },
    {
     "name": "stderr",
     "output_type": "stream",
     "text": [
      "Warning message in file(file, ifelse(append, \"a\", \"w\")):\n",
      "“cannot open file '/data00/projects/bbprime/data/bids_data/sub-BPA30/func/sub-BPA30_task-read_acq-Mb4Mm3Tr550_run-1_events.tsv': Permission denied”\n",
      "/data00/projects/bbprime/data/task_logs/task_scanner/task_read/sub-BPA30_task1.csv\n",
      "\n"
     ]
    },
    {
     "name": "stdout",
     "output_type": "stream",
     "text": [
      "[1] \"/data00/projects/bbprime/data/bids_data/sub-BPA31/func/sub-BPA31_task-read_acq-Mb4Mm3Tr550_run-1_events.tsv\"\n"
     ]
    },
    {
     "name": "stderr",
     "output_type": "stream",
     "text": [
      "Warning message in file(file, ifelse(append, \"a\", \"w\")):\n",
      "“cannot open file '/data00/projects/bbprime/data/bids_data/sub-BPA31/func/sub-BPA31_task-read_acq-Mb4Mm3Tr550_run-1_events.tsv': Permission denied”\n",
      "/data00/projects/bbprime/data/task_logs/task_scanner/task_read/sub-BPA31_task1.csv\n",
      "\n"
     ]
    },
    {
     "name": "stdout",
     "output_type": "stream",
     "text": [
      "[1] \"/data00/projects/bbprime/data/bids_data/sub-BPA32/func/sub-BPA32_task-read_acq-Mb4Mm3Tr550_run-1_events.tsv\"\n"
     ]
    },
    {
     "name": "stderr",
     "output_type": "stream",
     "text": [
      "Warning message in file(file, ifelse(append, \"a\", \"w\")):\n",
      "“cannot open file '/data00/projects/bbprime/data/bids_data/sub-BPA32/func/sub-BPA32_task-read_acq-Mb4Mm3Tr550_run-1_events.tsv': Permission denied”\n",
      "/data00/projects/bbprime/data/task_logs/task_scanner/task_read/sub-BPA32_task1.csv\n",
      "\n"
     ]
    },
    {
     "name": "stdout",
     "output_type": "stream",
     "text": [
      "[1] \"/data00/projects/bbprime/data/bids_data/sub-BPA33/func/sub-BPA33_task-read_acq-Mb4Mm3Tr550_run-1_events.tsv\"\n"
     ]
    },
    {
     "name": "stderr",
     "output_type": "stream",
     "text": [
      "Warning message in file(file, ifelse(append, \"a\", \"w\")):\n",
      "“cannot open file '/data00/projects/bbprime/data/bids_data/sub-BPA33/func/sub-BPA33_task-read_acq-Mb4Mm3Tr550_run-1_events.tsv': Permission denied”\n",
      "/data00/projects/bbprime/data/task_logs/task_scanner/task_read/sub-BPA33_task1.csv\n",
      "\n"
     ]
    },
    {
     "name": "stdout",
     "output_type": "stream",
     "text": [
      "[1] \"/data00/projects/bbprime/data/bids_data/sub-BPA34/func/sub-BPA34_task-read_acq-Mb4Mm3Tr550_run-1_events.tsv\"\n"
     ]
    },
    {
     "name": "stderr",
     "output_type": "stream",
     "text": [
      "Warning message in file(file, ifelse(append, \"a\", \"w\")):\n",
      "“cannot open file '/data00/projects/bbprime/data/bids_data/sub-BPA34/func/sub-BPA34_task-read_acq-Mb4Mm3Tr550_run-1_events.tsv': Permission denied”\n",
      "/data00/projects/bbprime/data/task_logs/task_scanner/task_read/sub-BPA34_task1.csv\n",
      "\n"
     ]
    },
    {
     "name": "stdout",
     "output_type": "stream",
     "text": [
      "[1] \"/data00/projects/bbprime/data/bids_data/sub-BPA35/func/sub-BPA35_task-read_acq-Mb4Mm3Tr550_run-1_events.tsv\"\n"
     ]
    },
    {
     "name": "stderr",
     "output_type": "stream",
     "text": [
      "Warning message in file(file, ifelse(append, \"a\", \"w\")):\n",
      "“cannot open file '/data00/projects/bbprime/data/bids_data/sub-BPA35/func/sub-BPA35_task-read_acq-Mb4Mm3Tr550_run-1_events.tsv': Permission denied”\n",
      "/data00/projects/bbprime/data/task_logs/task_scanner/task_read/sub-BPA35_task1.csv\n",
      "\n"
     ]
    },
    {
     "name": "stdout",
     "output_type": "stream",
     "text": [
      "[1] \"/data00/projects/bbprime/data/bids_data/sub-BPA36/func/sub-BPA36_task-read_acq-Mb4Mm3Tr550_run-1_events.tsv\"\n"
     ]
    },
    {
     "name": "stderr",
     "output_type": "stream",
     "text": [
      "Warning message in file(file, ifelse(append, \"a\", \"w\")):\n",
      "“cannot open file '/data00/projects/bbprime/data/bids_data/sub-BPA36/func/sub-BPA36_task-read_acq-Mb4Mm3Tr550_run-1_events.tsv': Permission denied”\n",
      "/data00/projects/bbprime/data/task_logs/task_scanner/task_read/sub-BPA36_task1.csv\n",
      "\n"
     ]
    },
    {
     "name": "stdout",
     "output_type": "stream",
     "text": [
      "[1] \"/data00/projects/bbprime/data/bids_data/sub-BPA37/func/sub-BPA37_task-read_acq-Mb4Mm3Tr550_run-1_events.tsv\"\n"
     ]
    },
    {
     "name": "stderr",
     "output_type": "stream",
     "text": [
      "Warning message in file(file, ifelse(append, \"a\", \"w\")):\n",
      "“cannot open file '/data00/projects/bbprime/data/bids_data/sub-BPA37/func/sub-BPA37_task-read_acq-Mb4Mm3Tr550_run-1_events.tsv': Permission denied”\n",
      "/data00/projects/bbprime/data/task_logs/task_scanner/task_read/sub-BPA37_task1.csv\n",
      "\n"
     ]
    },
    {
     "name": "stdout",
     "output_type": "stream",
     "text": [
      "[1] \"/data00/projects/bbprime/data/bids_data/sub-BPA38/func/sub-BPA38_task-read_acq-Mb4Mm3Tr550_run-1_events.tsv\"\n"
     ]
    },
    {
     "name": "stderr",
     "output_type": "stream",
     "text": [
      "Warning message in file(file, ifelse(append, \"a\", \"w\")):\n",
      "“cannot open file '/data00/projects/bbprime/data/bids_data/sub-BPA38/func/sub-BPA38_task-read_acq-Mb4Mm3Tr550_run-1_events.tsv': Permission denied”\n",
      "/data00/projects/bbprime/data/task_logs/task_scanner/task_read/sub-BPA38_task1.csv\n",
      "\n"
     ]
    },
    {
     "name": "stdout",
     "output_type": "stream",
     "text": [
      "[1] \"/data00/projects/bbprime/data/bids_data/sub-BPA39/func/sub-BPA39_task-read_acq-Mb4Mm3Tr550_run-1_events.tsv\"\n"
     ]
    },
    {
     "name": "stderr",
     "output_type": "stream",
     "text": [
      "Warning message in file(file, ifelse(append, \"a\", \"w\")):\n",
      "“cannot open file '/data00/projects/bbprime/data/bids_data/sub-BPA39/func/sub-BPA39_task-read_acq-Mb4Mm3Tr550_run-1_events.tsv': Permission denied”\n",
      "/data00/projects/bbprime/data/task_logs/task_scanner/task_read/sub-BPA39_task1.csv\n",
      "\n"
     ]
    },
    {
     "name": "stdout",
     "output_type": "stream",
     "text": [
      "[1] \"/data00/projects/bbprime/data/bids_data/sub-BPA41/func/sub-BPA41_task-read_acq-Mb4Mm3Tr550_run-1_events.tsv\"\n"
     ]
    },
    {
     "name": "stderr",
     "output_type": "stream",
     "text": [
      "Warning message in file(file, ifelse(append, \"a\", \"w\")):\n",
      "“cannot open file '/data00/projects/bbprime/data/bids_data/sub-BPA41/func/sub-BPA41_task-read_acq-Mb4Mm3Tr550_run-1_events.tsv': Permission denied”\n",
      "/data00/projects/bbprime/data/task_logs/task_scanner/task_read/sub-BPA41_task1.csv\n",
      "\n"
     ]
    },
    {
     "name": "stdout",
     "output_type": "stream",
     "text": [
      "[1] \"/data00/projects/bbprime/data/bids_data/sub-BPA42/func/sub-BPA42_task-read_acq-Mb4Mm3Tr550_run-1_events.tsv\"\n"
     ]
    },
    {
     "name": "stderr",
     "output_type": "stream",
     "text": [
      "Warning message in file(file, ifelse(append, \"a\", \"w\")):\n",
      "“cannot open file '/data00/projects/bbprime/data/bids_data/sub-BPA42/func/sub-BPA42_task-read_acq-Mb4Mm3Tr550_run-1_events.tsv': Permission denied”\n",
      "/data00/projects/bbprime/data/task_logs/task_scanner/task_read/sub-BPA42_task1.csv\n",
      "\n"
     ]
    },
    {
     "name": "stdout",
     "output_type": "stream",
     "text": [
      "[1] \"/data00/projects/bbprime/data/bids_data/sub-BPA43/func/sub-BPA43_task-read_acq-Mb4Mm3Tr550_run-1_events.tsv\"\n"
     ]
    },
    {
     "name": "stderr",
     "output_type": "stream",
     "text": [
      "Warning message in file(file, ifelse(append, \"a\", \"w\")):\n",
      "“cannot open file '/data00/projects/bbprime/data/bids_data/sub-BPA43/func/sub-BPA43_task-read_acq-Mb4Mm3Tr550_run-1_events.tsv': Permission denied”\n",
      "/data00/projects/bbprime/data/task_logs/task_scanner/task_read/sub-BPA43_task1.csv\n",
      "\n"
     ]
    },
    {
     "name": "stdout",
     "output_type": "stream",
     "text": [
      "[1] \"/data00/projects/bbprime/data/bids_data/sub-BPA44/func/sub-BPA44_task-read_acq-Mb4Mm3Tr550_run-1_events.tsv\"\n"
     ]
    },
    {
     "name": "stderr",
     "output_type": "stream",
     "text": [
      "Warning message in file(file, ifelse(append, \"a\", \"w\")):\n",
      "“cannot open file '/data00/projects/bbprime/data/bids_data/sub-BPA44/func/sub-BPA44_task-read_acq-Mb4Mm3Tr550_run-1_events.tsv': Permission denied”\n",
      "/data00/projects/bbprime/data/task_logs/task_scanner/task_read/sub-BPA44_task1.csv\n",
      "\n"
     ]
    },
    {
     "name": "stdout",
     "output_type": "stream",
     "text": [
      "[1] \"/data00/projects/bbprime/data/bids_data/sub-BPA45/func/sub-BPA45_task-read_acq-Mb4Mm3Tr550_run-1_events.tsv\"\n"
     ]
    },
    {
     "name": "stderr",
     "output_type": "stream",
     "text": [
      "Warning message in file(file, ifelse(append, \"a\", \"w\")):\n",
      "“cannot open file '/data00/projects/bbprime/data/bids_data/sub-BPA45/func/sub-BPA45_task-read_acq-Mb4Mm3Tr550_run-1_events.tsv': Permission denied”\n",
      "/data00/projects/bbprime/data/task_logs/task_scanner/task_read/sub-BPA45_task1.csv\n",
      "\n"
     ]
    },
    {
     "name": "stdout",
     "output_type": "stream",
     "text": [
      "[1] \"/data00/projects/bbprime/data/bids_data/sub-BPA46/func/sub-BPA46_task-read_acq-Mb4Mm3Tr550_run-1_events.tsv\"\n"
     ]
    },
    {
     "name": "stderr",
     "output_type": "stream",
     "text": [
      "Warning message in file(file, ifelse(append, \"a\", \"w\")):\n",
      "“cannot open file '/data00/projects/bbprime/data/bids_data/sub-BPA46/func/sub-BPA46_task-read_acq-Mb4Mm3Tr550_run-1_events.tsv': Permission denied”\n",
      "/data00/projects/bbprime/data/task_logs/task_scanner/task_read/sub-BPA46_task1.csv\n",
      "\n"
     ]
    },
    {
     "name": "stdout",
     "output_type": "stream",
     "text": [
      "[1] \"/data00/projects/bbprime/data/bids_data/sub-BPA47/func/sub-BPA47_task-read_acq-Mb4Mm3Tr550_run-1_events.tsv\"\n"
     ]
    },
    {
     "name": "stderr",
     "output_type": "stream",
     "text": [
      "Warning message in file(file, ifelse(append, \"a\", \"w\")):\n",
      "“cannot open file '/data00/projects/bbprime/data/bids_data/sub-BPA47/func/sub-BPA47_task-read_acq-Mb4Mm3Tr550_run-1_events.tsv': Permission denied”\n",
      "/data00/projects/bbprime/data/task_logs/task_scanner/task_read/sub-BPA47_task1.csv\n",
      "\n"
     ]
    },
    {
     "name": "stdout",
     "output_type": "stream",
     "text": [
      "[1] \"/data00/projects/bbprime/data/bids_data/sub-BPA81/func/sub-BPA81_task-read_acq-Mb4Mm3Tr550_run-1_events.tsv\"\n"
     ]
    },
    {
     "name": "stderr",
     "output_type": "stream",
     "text": [
      "Warning message in file(file, ifelse(append, \"a\", \"w\")):\n",
      "“cannot open file '/data00/projects/bbprime/data/bids_data/sub-BPA81/func/sub-BPA81_task-read_acq-Mb4Mm3Tr550_run-1_events.tsv': Permission denied”\n",
      "/data00/projects/bbprime/data/task_logs/task_scanner/task_read/sub-BPA81_run-01_task1.csv\n",
      "\n"
     ]
    },
    {
     "name": "stdout",
     "output_type": "stream",
     "text": [
      "[1] \"/data00/projects/bbprime/data/bids_data/sub-BPA81/func/sub-BPA81_task-read_acq-Mb4Mm3Tr550_run-1_events.tsv\"\n"
     ]
    },
    {
     "name": "stderr",
     "output_type": "stream",
     "text": [
      "Warning message in file(file, ifelse(append, \"a\", \"w\")):\n",
      "“cannot open file '/data00/projects/bbprime/data/bids_data/sub-BPA81/func/sub-BPA81_task-read_acq-Mb4Mm3Tr550_run-1_events.tsv': Permission denied”\n",
      "/data00/projects/bbprime/data/task_logs/task_scanner/task_read/sub-BPA81_run-02_task1.csv\n",
      "\n"
     ]
    },
    {
     "name": "stdout",
     "output_type": "stream",
     "text": [
      "[1] \"/data00/projects/bbprime/data/bids_data/sub-BPA81/func/sub-BPA81_task-read_acq-Mb4Mm3Tr550_run-1_events.tsv\"\n"
     ]
    },
    {
     "name": "stderr",
     "output_type": "stream",
     "text": [
      "Warning message in file(file, ifelse(append, \"a\", \"w\")):\n",
      "“cannot open file '/data00/projects/bbprime/data/bids_data/sub-BPA81/func/sub-BPA81_task-read_acq-Mb4Mm3Tr550_run-1_events.tsv': Permission denied”\n",
      "/data00/projects/bbprime/data/task_logs/task_scanner/task_read/sub-BPA81_run-03_task1.csv\n",
      "\n"
     ]
    },
    {
     "name": "stdout",
     "output_type": "stream",
     "text": [
      "[1] \"/data00/projects/bbprime/data/bids_data/sub-BPA82/func/sub-BPA82_task-read_acq-Mb4Mm3Tr550_run-1_events.tsv\"\n"
     ]
    },
    {
     "name": "stderr",
     "output_type": "stream",
     "text": [
      "Warning message in file(file, ifelse(append, \"a\", \"w\")):\n",
      "“cannot open file '/data00/projects/bbprime/data/bids_data/sub-BPA82/func/sub-BPA82_task-read_acq-Mb4Mm3Tr550_run-1_events.tsv': Permission denied”\n",
      "/data00/projects/bbprime/data/task_logs/task_scanner/task_read/sub-BPA82_run-01_task1.csv\n",
      "\n"
     ]
    },
    {
     "name": "stdout",
     "output_type": "stream",
     "text": [
      "[1] \"/data00/projects/bbprime/data/bids_data/sub-BPA82/func/sub-BPA82_task-read_acq-Mb4Mm3Tr550_run-1_events.tsv\"\n"
     ]
    },
    {
     "name": "stderr",
     "output_type": "stream",
     "text": [
      "Warning message in file(file, ifelse(append, \"a\", \"w\")):\n",
      "“cannot open file '/data00/projects/bbprime/data/bids_data/sub-BPA82/func/sub-BPA82_task-read_acq-Mb4Mm3Tr550_run-1_events.tsv': Permission denied”\n",
      "/data00/projects/bbprime/data/task_logs/task_scanner/task_read/sub-BPA82_run-02_task1.csv\n",
      "\n"
     ]
    },
    {
     "name": "stdout",
     "output_type": "stream",
     "text": [
      "[1] \"/data00/projects/bbprime/data/bids_data/sub-BPA82/func/sub-BPA82_task-read_acq-Mb4Mm3Tr550_run-1_events.tsv\"\n"
     ]
    },
    {
     "name": "stderr",
     "output_type": "stream",
     "text": [
      "Warning message in file(file, ifelse(append, \"a\", \"w\")):\n",
      "“cannot open file '/data00/projects/bbprime/data/bids_data/sub-BPA82/func/sub-BPA82_task-read_acq-Mb4Mm3Tr550_run-1_events.tsv': Permission denied”\n",
      "/data00/projects/bbprime/data/task_logs/task_scanner/task_read/sub-BPA82_run-03_task1.csv\n",
      "\n"
     ]
    },
    {
     "name": "stdout",
     "output_type": "stream",
     "text": [
      "[1] \"/data00/projects/bbprime/data/bids_data/sub-BPA84/func/sub-BPA84_task-read_acq-Mb4Mm3Tr550_run-1_events.tsv\"\n"
     ]
    },
    {
     "name": "stderr",
     "output_type": "stream",
     "text": [
      "Warning message in file(file, ifelse(append, \"a\", \"w\")):\n",
      "“cannot open file '/data00/projects/bbprime/data/bids_data/sub-BPA84/func/sub-BPA84_task-read_acq-Mb4Mm3Tr550_run-1_events.tsv': Permission denied”\n",
      "/data00/projects/bbprime/data/task_logs/task_scanner/task_read/sub-BPA84_run-01_task1.csv\n",
      "\n"
     ]
    },
    {
     "name": "stdout",
     "output_type": "stream",
     "text": [
      "[1] \"/data00/projects/bbprime/data/bids_data/sub-BPA84/func/sub-BPA84_task-read_acq-Mb4Mm3Tr550_run-1_events.tsv\"\n"
     ]
    },
    {
     "name": "stderr",
     "output_type": "stream",
     "text": [
      "Warning message in file(file, ifelse(append, \"a\", \"w\")):\n",
      "“cannot open file '/data00/projects/bbprime/data/bids_data/sub-BPA84/func/sub-BPA84_task-read_acq-Mb4Mm3Tr550_run-1_events.tsv': Permission denied”\n",
      "/data00/projects/bbprime/data/task_logs/task_scanner/task_read/sub-BPA84_run-02_task1.csv\n",
      "\n"
     ]
    },
    {
     "name": "stdout",
     "output_type": "stream",
     "text": [
      "[1] \"/data00/projects/bbprime/data/bids_data/sub-BPA84/func/sub-BPA84_task-read_acq-Mb4Mm3Tr550_run-1_events.tsv\"\n"
     ]
    },
    {
     "name": "stderr",
     "output_type": "stream",
     "text": [
      "Warning message in file(file, ifelse(append, \"a\", \"w\")):\n",
      "“cannot open file '/data00/projects/bbprime/data/bids_data/sub-BPA84/func/sub-BPA84_task-read_acq-Mb4Mm3Tr550_run-1_events.tsv': Permission denied”\n",
      "/data00/projects/bbprime/data/task_logs/task_scanner/task_read/sub-BPA84_run-03_task1.csv\n",
      "\n"
     ]
    },
    {
     "name": "stdout",
     "output_type": "stream",
     "text": [
      "[1] \"/data00/projects/bbprime/data/bids_data/sub-BPA85/func/sub-BPA85_task-read_acq-Mb4Mm3Tr550_run-1_events.tsv\"\n"
     ]
    },
    {
     "name": "stderr",
     "output_type": "stream",
     "text": [
      "Warning message in file(file, ifelse(append, \"a\", \"w\")):\n",
      "“cannot open file '/data00/projects/bbprime/data/bids_data/sub-BPA85/func/sub-BPA85_task-read_acq-Mb4Mm3Tr550_run-1_events.tsv': Permission denied”\n",
      "/data00/projects/bbprime/data/task_logs/task_scanner/task_read/sub-BPA85_run-01_task1.csv\n",
      "\n"
     ]
    },
    {
     "name": "stdout",
     "output_type": "stream",
     "text": [
      "[1] \"/data00/projects/bbprime/data/bids_data/sub-BPA85/func/sub-BPA85_task-read_acq-Mb4Mm3Tr550_run-1_events.tsv\"\n"
     ]
    },
    {
     "name": "stderr",
     "output_type": "stream",
     "text": [
      "Warning message in file(file, ifelse(append, \"a\", \"w\")):\n",
      "“cannot open file '/data00/projects/bbprime/data/bids_data/sub-BPA85/func/sub-BPA85_task-read_acq-Mb4Mm3Tr550_run-1_events.tsv': Permission denied”\n",
      "/data00/projects/bbprime/data/task_logs/task_scanner/task_read/sub-BPA85_run-02_task1.csv\n",
      "\n"
     ]
    },
    {
     "name": "stdout",
     "output_type": "stream",
     "text": [
      "[1] \"/data00/projects/bbprime/data/bids_data/sub-BPA85/func/sub-BPA85_task-read_acq-Mb4Mm3Tr550_run-1_events.tsv\"\n"
     ]
    },
    {
     "name": "stderr",
     "output_type": "stream",
     "text": [
      "Warning message in file(file, ifelse(append, \"a\", \"w\")):\n",
      "“cannot open file '/data00/projects/bbprime/data/bids_data/sub-BPA85/func/sub-BPA85_task-read_acq-Mb4Mm3Tr550_run-1_events.tsv': Permission denied”\n",
      "/data00/projects/bbprime/data/task_logs/task_scanner/task_read/sub-BPA85_run-03_task1.csv\n",
      "\n"
     ]
    },
    {
     "name": "stdout",
     "output_type": "stream",
     "text": [
      "[1] \"/data00/projects/bbprime/data/bids_data/sub-BPA86/func/sub-BPA86_task-read_acq-Mb4Mm3Tr550_run-1_events.tsv\"\n"
     ]
    },
    {
     "name": "stderr",
     "output_type": "stream",
     "text": [
      "Warning message in file(file, ifelse(append, \"a\", \"w\")):\n",
      "“cannot open file '/data00/projects/bbprime/data/bids_data/sub-BPA86/func/sub-BPA86_task-read_acq-Mb4Mm3Tr550_run-1_events.tsv': Permission denied”\n",
      "/data00/projects/bbprime/data/task_logs/task_scanner/task_read/sub-BPA86_run-01_task1.csv\n",
      "\n"
     ]
    },
    {
     "name": "stdout",
     "output_type": "stream",
     "text": [
      "[1] \"/data00/projects/bbprime/data/bids_data/sub-BPA86/func/sub-BPA86_task-read_acq-Mb4Mm3Tr550_run-1_events.tsv\"\n"
     ]
    },
    {
     "name": "stderr",
     "output_type": "stream",
     "text": [
      "Warning message in file(file, ifelse(append, \"a\", \"w\")):\n",
      "“cannot open file '/data00/projects/bbprime/data/bids_data/sub-BPA86/func/sub-BPA86_task-read_acq-Mb4Mm3Tr550_run-1_events.tsv': Permission denied”\n",
      "/data00/projects/bbprime/data/task_logs/task_scanner/task_read/sub-BPA86_run-02_task1.csv\n",
      "\n"
     ]
    },
    {
     "name": "stdout",
     "output_type": "stream",
     "text": [
      "[1] \"/data00/projects/bbprime/data/bids_data/sub-BPA86/func/sub-BPA86_task-read_acq-Mb4Mm3Tr550_run-1_events.tsv\"\n"
     ]
    },
    {
     "name": "stderr",
     "output_type": "stream",
     "text": [
      "Warning message in file(file, ifelse(append, \"a\", \"w\")):\n",
      "“cannot open file '/data00/projects/bbprime/data/bids_data/sub-BPA86/func/sub-BPA86_task-read_acq-Mb4Mm3Tr550_run-1_events.tsv': Permission denied”\n",
      "/data00/projects/bbprime/data/task_logs/task_scanner/task_read/sub-BPA86_run-03_task1.csv\n",
      "\n"
     ]
    },
    {
     "name": "stdout",
     "output_type": "stream",
     "text": [
      "[1] \"/data00/projects/bbprime/data/bids_data/sub-BPA87/func/sub-BPA87_task-read_acq-Mb4Mm3Tr550_run-1_events.tsv\"\n"
     ]
    },
    {
     "name": "stderr",
     "output_type": "stream",
     "text": [
      "Warning message in file(file, ifelse(append, \"a\", \"w\")):\n",
      "“cannot open file '/data00/projects/bbprime/data/bids_data/sub-BPA87/func/sub-BPA87_task-read_acq-Mb4Mm3Tr550_run-1_events.tsv': Permission denied”\n",
      "/data00/projects/bbprime/data/task_logs/task_scanner/task_read/sub-BPA87_run-01_task1.csv\n",
      "\n"
     ]
    },
    {
     "name": "stdout",
     "output_type": "stream",
     "text": [
      "[1] \"/data00/projects/bbprime/data/bids_data/sub-BPA87/func/sub-BPA87_task-read_acq-Mb4Mm3Tr550_run-1_events.tsv\"\n"
     ]
    },
    {
     "name": "stderr",
     "output_type": "stream",
     "text": [
      "Warning message in file(file, ifelse(append, \"a\", \"w\")):\n",
      "“cannot open file '/data00/projects/bbprime/data/bids_data/sub-BPA87/func/sub-BPA87_task-read_acq-Mb4Mm3Tr550_run-1_events.tsv': Permission denied”\n",
      "/data00/projects/bbprime/data/task_logs/task_scanner/task_read/sub-BPA87_run-02_task1.csv\n",
      "\n"
     ]
    },
    {
     "name": "stdout",
     "output_type": "stream",
     "text": [
      "[1] \"/data00/projects/bbprime/data/bids_data/sub-BPA87/func/sub-BPA87_task-read_acq-Mb4Mm3Tr550_run-1_events.tsv\"\n"
     ]
    },
    {
     "name": "stderr",
     "output_type": "stream",
     "text": [
      "Warning message in file(file, ifelse(append, \"a\", \"w\")):\n",
      "“cannot open file '/data00/projects/bbprime/data/bids_data/sub-BPA87/func/sub-BPA87_task-read_acq-Mb4Mm3Tr550_run-1_events.tsv': Permission denied”\n",
      "/data00/projects/bbprime/data/task_logs/task_scanner/task_read/sub-BPA87_run-03_task1.csv\n",
      "\n"
     ]
    },
    {
     "name": "stdout",
     "output_type": "stream",
     "text": [
      "[1] \"/data00/projects/bbprime/data/bids_data/sub-BPA88/func/sub-BPA88_task-read_acq-Mb4Mm3Tr550_run-1_events.tsv\"\n"
     ]
    },
    {
     "name": "stderr",
     "output_type": "stream",
     "text": [
      "Warning message in file(file, ifelse(append, \"a\", \"w\")):\n",
      "“cannot open file '/data00/projects/bbprime/data/bids_data/sub-BPA88/func/sub-BPA88_task-read_acq-Mb4Mm3Tr550_run-1_events.tsv': Permission denied”\n",
      "/data00/projects/bbprime/data/task_logs/task_scanner/task_read/sub-BPA88_run-01_task1.csv\n",
      "\n"
     ]
    },
    {
     "name": "stdout",
     "output_type": "stream",
     "text": [
      "[1] \"/data00/projects/bbprime/data/bids_data/sub-BPA88/func/sub-BPA88_task-read_acq-Mb4Mm3Tr550_run-1_events.tsv\"\n"
     ]
    },
    {
     "name": "stderr",
     "output_type": "stream",
     "text": [
      "Warning message in file(file, ifelse(append, \"a\", \"w\")):\n",
      "“cannot open file '/data00/projects/bbprime/data/bids_data/sub-BPA88/func/sub-BPA88_task-read_acq-Mb4Mm3Tr550_run-1_events.tsv': Permission denied”\n",
      "/data00/projects/bbprime/data/task_logs/task_scanner/task_read/sub-BPA88_run-02_task1.csv\n",
      "\n"
     ]
    },
    {
     "name": "stdout",
     "output_type": "stream",
     "text": [
      "[1] \"/data00/projects/bbprime/data/bids_data/sub-BPA88/func/sub-BPA88_task-read_acq-Mb4Mm3Tr550_run-1_events.tsv\"\n"
     ]
    },
    {
     "name": "stderr",
     "output_type": "stream",
     "text": [
      "Warning message in file(file, ifelse(append, \"a\", \"w\")):\n",
      "“cannot open file '/data00/projects/bbprime/data/bids_data/sub-BPA88/func/sub-BPA88_task-read_acq-Mb4Mm3Tr550_run-1_events.tsv': Permission denied”\n",
      "/data00/projects/bbprime/data/task_logs/task_scanner/task_read/sub-BPA88_run-03_task1.csv\n",
      "\n"
     ]
    },
    {
     "name": "stdout",
     "output_type": "stream",
     "text": [
      "[1] \"/data00/projects/bbprime/data/bids_data/sub-BPA89/func/sub-BPA89_task-read_acq-Mb4Mm3Tr550_run-1_events.tsv\"\n"
     ]
    },
    {
     "name": "stderr",
     "output_type": "stream",
     "text": [
      "Warning message in file(file, ifelse(append, \"a\", \"w\")):\n",
      "“cannot open file '/data00/projects/bbprime/data/bids_data/sub-BPA89/func/sub-BPA89_task-read_acq-Mb4Mm3Tr550_run-1_events.tsv': Permission denied”\n",
      "/data00/projects/bbprime/data/task_logs/task_scanner/task_read/sub-BPA89_run-01_task1.csv\n",
      "\n"
     ]
    },
    {
     "name": "stdout",
     "output_type": "stream",
     "text": [
      "[1] \"/data00/projects/bbprime/data/bids_data/sub-BPA89/func/sub-BPA89_task-read_acq-Mb4Mm3Tr550_run-1_events.tsv\"\n"
     ]
    },
    {
     "name": "stderr",
     "output_type": "stream",
     "text": [
      "Warning message in file(file, ifelse(append, \"a\", \"w\")):\n",
      "“cannot open file '/data00/projects/bbprime/data/bids_data/sub-BPA89/func/sub-BPA89_task-read_acq-Mb4Mm3Tr550_run-1_events.tsv': Permission denied”\n",
      "/data00/projects/bbprime/data/task_logs/task_scanner/task_read/sub-BPA89_run-02_task1.csv\n",
      "\n"
     ]
    },
    {
     "name": "stdout",
     "output_type": "stream",
     "text": [
      "[1] \"/data00/projects/bbprime/data/bids_data/sub-BPA89/func/sub-BPA89_task-read_acq-Mb4Mm3Tr550_run-1_events.tsv\"\n"
     ]
    },
    {
     "name": "stderr",
     "output_type": "stream",
     "text": [
      "Warning message in file(file, ifelse(append, \"a\", \"w\")):\n",
      "“cannot open file '/data00/projects/bbprime/data/bids_data/sub-BPA89/func/sub-BPA89_task-read_acq-Mb4Mm3Tr550_run-1_events.tsv': Permission denied”\n",
      "/data00/projects/bbprime/data/task_logs/task_scanner/task_read/sub-BPA89_run-03_task1.csv\n",
      "\n"
     ]
    },
    {
     "name": "stdout",
     "output_type": "stream",
     "text": [
      "[1] \"/data00/projects/bbprime/data/bids_data/sub-BPA90/func/sub-BPA90_task-read_acq-Mb4Mm3Tr550_run-1_events.tsv\"\n"
     ]
    },
    {
     "name": "stderr",
     "output_type": "stream",
     "text": [
      "Warning message in file(file, ifelse(append, \"a\", \"w\")):\n",
      "“cannot open file '/data00/projects/bbprime/data/bids_data/sub-BPA90/func/sub-BPA90_task-read_acq-Mb4Mm3Tr550_run-1_events.tsv': Permission denied”\n",
      "/data00/projects/bbprime/data/task_logs/task_scanner/task_read/sub-BPA90_run-01_task1.csv\n",
      "\n"
     ]
    },
    {
     "name": "stdout",
     "output_type": "stream",
     "text": [
      "[1] \"/data00/projects/bbprime/data/bids_data/sub-BPA90/func/sub-BPA90_task-read_acq-Mb4Mm3Tr550_run-1_events.tsv\"\n"
     ]
    },
    {
     "name": "stderr",
     "output_type": "stream",
     "text": [
      "Warning message in file(file, ifelse(append, \"a\", \"w\")):\n",
      "“cannot open file '/data00/projects/bbprime/data/bids_data/sub-BPA90/func/sub-BPA90_task-read_acq-Mb4Mm3Tr550_run-1_events.tsv': Permission denied”\n",
      "/data00/projects/bbprime/data/task_logs/task_scanner/task_read/sub-BPA90_run-02_task1.csv\n",
      "\n"
     ]
    },
    {
     "name": "stdout",
     "output_type": "stream",
     "text": [
      "[1] \"/data00/projects/bbprime/data/bids_data/sub-BPA90/func/sub-BPA90_task-read_acq-Mb4Mm3Tr550_run-1_events.tsv\"\n"
     ]
    },
    {
     "name": "stderr",
     "output_type": "stream",
     "text": [
      "Warning message in file(file, ifelse(append, \"a\", \"w\")):\n",
      "“cannot open file '/data00/projects/bbprime/data/bids_data/sub-BPA90/func/sub-BPA90_task-read_acq-Mb4Mm3Tr550_run-1_events.tsv': Permission denied”\n",
      "/data00/projects/bbprime/data/task_logs/task_scanner/task_read/sub-BPA90_run-03_task1.csv\n",
      "\n"
     ]
    },
    {
     "name": "stdout",
     "output_type": "stream",
     "text": [
      "[1] \"/data00/projects/bbprime/data/bids_data/sub-BPA91/func/sub-BPA91_task-read_acq-Mb4Mm3Tr550_run-1_events.tsv\"\n"
     ]
    },
    {
     "name": "stderr",
     "output_type": "stream",
     "text": [
      "Warning message in file(file, ifelse(append, \"a\", \"w\")):\n",
      "“cannot open file '/data00/projects/bbprime/data/bids_data/sub-BPA91/func/sub-BPA91_task-read_acq-Mb4Mm3Tr550_run-1_events.tsv': Permission denied”\n",
      "/data00/projects/bbprime/data/task_logs/task_scanner/task_read/sub-BPA91_run-01_task1.csv\n",
      "\n"
     ]
    },
    {
     "name": "stdout",
     "output_type": "stream",
     "text": [
      "[1] \"/data00/projects/bbprime/data/bids_data/sub-BPA91/func/sub-BPA91_task-read_acq-Mb4Mm3Tr550_run-1_events.tsv\"\n"
     ]
    },
    {
     "name": "stderr",
     "output_type": "stream",
     "text": [
      "Warning message in file(file, ifelse(append, \"a\", \"w\")):\n",
      "“cannot open file '/data00/projects/bbprime/data/bids_data/sub-BPA91/func/sub-BPA91_task-read_acq-Mb4Mm3Tr550_run-1_events.tsv': Permission denied”\n",
      "/data00/projects/bbprime/data/task_logs/task_scanner/task_read/sub-BPA91_run-02_task1.csv\n",
      "\n"
     ]
    },
    {
     "name": "stdout",
     "output_type": "stream",
     "text": [
      "[1] \"/data00/projects/bbprime/data/bids_data/sub-BPA91/func/sub-BPA91_task-read_acq-Mb4Mm3Tr550_run-1_events.tsv\"\n"
     ]
    },
    {
     "name": "stderr",
     "output_type": "stream",
     "text": [
      "Warning message in file(file, ifelse(append, \"a\", \"w\")):\n",
      "“cannot open file '/data00/projects/bbprime/data/bids_data/sub-BPA91/func/sub-BPA91_task-read_acq-Mb4Mm3Tr550_run-1_events.tsv': Permission denied”\n",
      "/data00/projects/bbprime/data/task_logs/task_scanner/task_read/sub-BPA91_run-03_task1.csv\n",
      "\n"
     ]
    },
    {
     "name": "stdout",
     "output_type": "stream",
     "text": [
      "[1] \"/data00/projects/bbprime/data/bids_data/sub-BPP04/func/sub-BPP04_task-read_run-1_events.tsv\"\n"
     ]
    },
    {
     "name": "stderr",
     "output_type": "stream",
     "text": [
      "Warning message in file(file, ifelse(append, \"a\", \"w\")):\n",
      "“cannot open file '/data00/projects/bbprime/data/bids_data/sub-BPP04/func/sub-BPP04_task-read_run-1_events.tsv': No such file or directory”\n",
      "/data00/projects/bbprime/data/task_logs/task_scanner/task_read/sub-BPP04_task1.csv\n",
      "\n"
     ]
    },
    {
     "name": "stdout",
     "output_type": "stream",
     "text": [
      "[1] \"/data00/projects/bbprime/data/bids_data/sub-BPP05/func/sub-BPP05_task-read_run-1_events.tsv\"\n",
      "[1] \"/data00/projects/bbprime/data/bids_data/sub-BPP06/func/sub-BPP06_task-read_run-1_events.tsv\"\n",
      "[1] \"/data00/projects/bbprime/data/bids_data/sub-BPP07/func/sub-BPP07_task-read_run-1_events.tsv\"\n",
      "[1] \"/data00/projects/bbprime/data/bids_data/sub-BPP11/func/sub-BPP11_task-read_run-1_events.tsv\"\n",
      "[1] \"/data00/projects/bbprime/data/bids_data/sub-BPP12/func/sub-BPP12_task-read_run-1_events.tsv\"\n"
     ]
    },
    {
     "name": "stderr",
     "output_type": "stream",
     "text": [
      "Warning message in file(file, ifelse(append, \"a\", \"w\")):\n",
      "“cannot open file '/data00/projects/bbprime/data/bids_data/sub-BPP12/func/sub-BPP12_task-read_run-1_events.tsv': No such file or directory”\n",
      "/data00/projects/bbprime/data/task_logs/task_scanner/task_read/sub-BPP12_task1.csv\n",
      "\n"
     ]
    },
    {
     "name": "stdout",
     "output_type": "stream",
     "text": [
      "[1] \"/data00/projects/bbprime/data/bids_data/sub-BPP13/func/sub-BPP13_task-read_run-1_events.tsv\"\n",
      "[1] \"/data00/projects/bbprime/data/bids_data/sub-BPP15/func/sub-BPP15_task-read_run-1_events.tsv\"\n",
      "[1] \"/data00/projects/bbprime/data/bids_data/sub-BPP19/func/sub-BPP19_task-read_run-1_events.tsv\"\n",
      "[1] \"/data00/projects/bbprime/data/bids_data/sub-BPP20/func/sub-BPP20_task-read_run-1_events.tsv\"\n",
      "[1] \"/data00/projects/bbprime/data/bids_data/sub-BPP21/func/sub-BPP21_task-read_run-1_events.tsv\"\n",
      "[1] \"/data00/projects/bbprime/data/bids_data/sub-BPP24/func/sub-BPP24_task-read_run-1_events.tsv\"\n",
      "[1] \"/data00/projects/bbprime/data/bids_data/sub-BPP25/func/sub-BPP25_task-read_run-1_events.tsv\"\n",
      "[1] \"/data00/projects/bbprime/data/bids_data/sub-BPP26/func/sub-BPP26_task-read_run-1_events.tsv\"\n",
      "[1] \"/data00/projects/bbprime/data/bids_data/sub-BPP29/func/sub-BPP29_task-read_run-1_events.tsv\"\n",
      "[1] \"/data00/projects/bbprime/data/bids_data/sub-BPP30/func/sub-BPP30_task-read_run-1_events.tsv\"\n",
      "[1] \"/data00/projects/bbprime/data/bids_data/sub-BPP33/func/sub-BPP33_task-read_run-1_events.tsv\"\n",
      "[1] \"/data00/projects/bbprime/data/bids_data/sub-BPP34/func/sub-BPP34_task-read_run-1_events.tsv\"\n",
      "[1] \"/data00/projects/bbprime/data/bids_data/sub-BPP36/func/sub-BPP36_task-read_run-1_events.tsv\"\n",
      "[1] \"/data00/projects/bbprime/data/bids_data/sub-BPP37/func/sub-BPP37_task-read_run-1_events.tsv\"\n",
      "[1] \"/data00/projects/bbprime/data/bids_data/sub-BPP38/func/sub-BPP38_task-read_run-1_events.tsv\"\n",
      "[1] \"/data00/projects/bbprime/data/bids_data/sub-BPP40/func/sub-BPP40_task-read_run-1_events.tsv\"\n",
      "[1] \"/data00/projects/bbprime/data/bids_data/sub-BPP41/func/sub-BPP41_task-read_run-1_events.tsv\"\n",
      "[1] \"/data00/projects/bbprime/data/bids_data/sub-BPP42/func/sub-BPP42_task-read_run-1_events.tsv\"\n",
      "[1] \"/data00/projects/bbprime/data/bids_data/sub-BPP43/func/sub-BPP43_task-read_run-1_events.tsv\"\n",
      "[1] \"/data00/projects/bbprime/data/bids_data/sub-BPP44/func/sub-BPP44_task-read_run-1_events.tsv\"\n",
      "[1] \"/data00/projects/bbprime/data/bids_data/sub-BPP46/func/sub-BPP46_task-read_run-1_events.tsv\"\n",
      "[1] \"/data00/projects/bbprime/data/bids_data/sub-BPP46/func/sub-BPP46_task-read_run-1_events.tsv\"\n",
      "[1] \"/data00/projects/bbprime/data/bids_data/sub-BPP47/func/sub-BPP47_task-read_run-1_events.tsv\"\n"
     ]
    },
    {
     "name": "stderr",
     "output_type": "stream",
     "text": [
      "Warning message in file(file, ifelse(append, \"a\", \"w\")):\n",
      "“cannot open file '/data00/projects/bbprime/data/bids_data/sub-BPP47/func/sub-BPP47_task-read_run-1_events.tsv': Permission denied”\n",
      "/data00/projects/bbprime/data/task_logs/task_scanner/task_read/sub-BPP47_task1.csv\n",
      "\n"
     ]
    },
    {
     "name": "stdout",
     "output_type": "stream",
     "text": [
      "[1] \"/data00/projects/bbprime/data/bids_data/sub-BPP49/func/sub-BPP49_task-read_run-1_events.tsv\"\n"
     ]
    },
    {
     "name": "stderr",
     "output_type": "stream",
     "text": [
      "Warning message in file(file, ifelse(append, \"a\", \"w\")):\n",
      "“cannot open file '/data00/projects/bbprime/data/bids_data/sub-BPP49/func/sub-BPP49_task-read_run-1_events.tsv': Permission denied”\n",
      "/data00/projects/bbprime/data/task_logs/task_scanner/task_read/sub-BPP49_task1.csv\n",
      "\n"
     ]
    },
    {
     "name": "stdout",
     "output_type": "stream",
     "text": [
      "[1] \"/data00/projects/bbprime/data/bids_data/sub-BPP51/func/sub-BPP51_task-read_run-1_events.tsv\"\n"
     ]
    },
    {
     "name": "stderr",
     "output_type": "stream",
     "text": [
      "Warning message in file(file, ifelse(append, \"a\", \"w\")):\n",
      "“cannot open file '/data00/projects/bbprime/data/bids_data/sub-BPP51/func/sub-BPP51_task-read_run-1_events.tsv': Permission denied”\n",
      "/data00/projects/bbprime/data/task_logs/task_scanner/task_read/sub-BPP51_task1.csv\n",
      "\n"
     ]
    },
    {
     "name": "stdout",
     "output_type": "stream",
     "text": [
      "[1] \"/data00/projects/bbprime/data/bids_data/sub-BPP52/func/sub-BPP52_task-read_run-1_events.tsv\"\n"
     ]
    },
    {
     "name": "stderr",
     "output_type": "stream",
     "text": [
      "Warning message in file(file, ifelse(append, \"a\", \"w\")):\n",
      "“cannot open file '/data00/projects/bbprime/data/bids_data/sub-BPP52/func/sub-BPP52_task-read_run-1_events.tsv': Permission denied”\n",
      "/data00/projects/bbprime/data/task_logs/task_scanner/task_read/sub-BPP52_task1.csv\n",
      "\n"
     ]
    },
    {
     "name": "stdout",
     "output_type": "stream",
     "text": [
      "[1] \"/data00/projects/bbprime/data/bids_data/sub-BPP53/func/sub-BPP53_task-read_run-1_events.tsv\"\n"
     ]
    },
    {
     "name": "stderr",
     "output_type": "stream",
     "text": [
      "Warning message in file(file, ifelse(append, \"a\", \"w\")):\n",
      "“cannot open file '/data00/projects/bbprime/data/bids_data/sub-BPP53/func/sub-BPP53_task-read_run-1_events.tsv': Permission denied”\n",
      "/data00/projects/bbprime/data/task_logs/task_scanner/task_read/sub-BPP53_task1.csv\n",
      "\n"
     ]
    },
    {
     "name": "stdout",
     "output_type": "stream",
     "text": [
      "[1] \"/data00/projects/bbprime/data/bids_data/sub-BPP54/func/sub-BPP54_task-read_run-1_events.tsv\"\n"
     ]
    },
    {
     "name": "stderr",
     "output_type": "stream",
     "text": [
      "Warning message in file(file, ifelse(append, \"a\", \"w\")):\n",
      "“cannot open file '/data00/projects/bbprime/data/bids_data/sub-BPP54/func/sub-BPP54_task-read_run-1_events.tsv': Permission denied”\n",
      "/data00/projects/bbprime/data/task_logs/task_scanner/task_read/sub-BPP54_task1.csv\n",
      "\n"
     ]
    },
    {
     "name": "stdout",
     "output_type": "stream",
     "text": [
      "[1] \"/data00/projects/bbprime/data/bids_data/sub-BPP58/func/sub-BPP58_task-read_run-1_events.tsv\"\n"
     ]
    },
    {
     "name": "stderr",
     "output_type": "stream",
     "text": [
      "Warning message in file(file, ifelse(append, \"a\", \"w\")):\n",
      "“cannot open file '/data00/projects/bbprime/data/bids_data/sub-BPP58/func/sub-BPP58_task-read_run-1_events.tsv': No such file or directory”\n",
      "/data00/projects/bbprime/data/task_logs/task_scanner/task_read/sub-BPP58_task1.csv\n",
      "\n"
     ]
    },
    {
     "ename": "ERROR",
     "evalue": "Error: Problem with `mutate()` column `key`.\n\u001b[34mℹ\u001b[39m `key = ifelse(...)`.\n\u001b[31m✖\u001b[39m object 'key' not found\n",
     "output_type": "error",
     "traceback": [
      "Error: Problem with `mutate()` column `key`.\n\u001b[34mℹ\u001b[39m `key = ifelse(...)`.\n\u001b[31m✖\u001b[39m object 'key' not found\nTraceback:\n",
      "1. read.csv(file, stringsAsFactors = FALSE) %>% mutate(key = ifelse(trial_type == \n .     \"rate\" & lead(trial_type) == \"keypress\", lead(key), key), \n .     rt = ifelse(trial_type == \"rate\" & lead(trial_type) == \"keypress\", \n .         lead(rt), rt), value = ifelse(trial_type == \"rate\" & \n .         lead(trial_type) == \"keypress\", lead(value), value), \n .     event_name = ifelse(grepl(\"read\", trial_type), sprintf(\"%s_%s\", \n .         trial_type, index), trial_type)) %>% filter(!trial_type == \n .     \"keypress\")",
      "2. withVisible(eval(quote(`_fseq`(`_lhs`)), env, env))",
      "3. eval(quote(`_fseq`(`_lhs`)), env, env)",
      "4. eval(quote(`_fseq`(`_lhs`)), env, env)",
      "5. `_fseq`(`_lhs`)",
      "6. freduce(value, `_function_list`)",
      "7. function_list[[i]](value)",
      "8. mutate(., key = ifelse(trial_type == \"rate\" & lead(trial_type) == \n .     \"keypress\", lead(key), key), rt = ifelse(trial_type == \"rate\" & \n .     lead(trial_type) == \"keypress\", lead(rt), rt), value = ifelse(trial_type == \n .     \"rate\" & lead(trial_type) == \"keypress\", lead(value), value), \n .     event_name = ifelse(grepl(\"read\", trial_type), sprintf(\"%s_%s\", \n .         trial_type, index), trial_type))",
      "9. mutate.data.frame(., key = ifelse(trial_type == \"rate\" & lead(trial_type) == \n .     \"keypress\", lead(key), key), rt = ifelse(trial_type == \"rate\" & \n .     lead(trial_type) == \"keypress\", lead(rt), rt), value = ifelse(trial_type == \n .     \"rate\" & lead(trial_type) == \"keypress\", lead(value), value), \n .     event_name = ifelse(grepl(\"read\", trial_type), sprintf(\"%s_%s\", \n .         trial_type, index), trial_type))",
      "10. mutate_cols(.data, ..., caller_env = caller_env())",
      "11. withCallingHandlers({\n  .     for (i in seq_along(dots)) {\n  .         mask$across_cache_reset()\n  .         context_poke(\"column\", old_current_column)\n  .         quosures <- expand_across(dots[[i]])\n  .         quosures_results <- vector(mode = \"list\", length = length(quosures))\n  .         for (k in seq_along(quosures)) {\n  .             quo <- quosures[[k]]\n  .             quo_data <- attr(quo, \"dplyr:::data\")\n  .             if (!is.null(quo_data$column)) {\n  .                 context_poke(\"column\", quo_data$column)\n  .             }\n  .             chunks <- NULL\n  .             result <- NULL\n  .             if (quo_is_symbol(quo)) {\n  .                 name <- as_string(quo_get_expr(quo))\n  .                 if (name %in% names(new_columns)) {\n  .                   result <- new_columns[[name]]\n  .                   chunks <- mask$resolve(name)\n  .                 }\n  .                 else if (name %in% names(.data)) {\n  .                   result <- .data[[name]]\n  .                   chunks <- mask$resolve(name)\n  .                 }\n  .                 if (inherits(.data, \"rowwise_df\") && vec_is_list(result)) {\n  .                   sizes <- list_sizes(result)\n  .                   wrong <- which(sizes != 1)\n  .                   if (length(wrong)) {\n  .                     group <- wrong[1L]\n  .                     mask$set_current_group(group)\n  .                     abort(x_size = sizes[group], class = \"dplyr:::mutate_incompatible_size\")\n  .                   }\n  .                 }\n  .             }\n  .             if (is.null(chunks)) {\n  .                 chunks <- mask$eval_all_mutate(quo)\n  .             }\n  .             if (is.null(chunks)) {\n  .                 next\n  .             }\n  .             if (is.null(result)) {\n  .                 if (length(rows) == 1) {\n  .                   result <- chunks[[1]]\n  .                 }\n  .                 else {\n  .                   result <- withCallingHandlers(vec_unchop(chunks <- vec_cast_common(!!!chunks), \n  .                     rows), vctrs_error_incompatible_type = function(cnd) {\n  .                     abort(class = \"dplyr:::error_mutate_incompatible_combine\", \n  .                       parent = cnd)\n  .                   })\n  .                 }\n  .             }\n  .             quosures_results[[k]] <- list(result = result, chunks = chunks)\n  .         }\n  .         for (k in seq_along(quosures)) {\n  .             quo <- quosures[[k]]\n  .             quo_data <- attr(quo, \"dplyr:::data\")\n  .             quo_result <- quosures_results[[k]]\n  .             if (is.null(quo_result)) {\n  .                 if (quo_data$is_named) {\n  .                   name <- quo_data$name_given\n  .                   new_columns[[name]] <- zap()\n  .                   mask$remove(name)\n  .                 }\n  .                 next\n  .             }\n  .             result <- quo_result$result\n  .             chunks <- quo_result$chunks\n  .             if (!quo_data$is_named && is.data.frame(result)) {\n  .                 new_columns[names(result)] <- result\n  .                 mask$add_many(result, chunks)\n  .             }\n  .             else {\n  .                 name <- quo_data$name_auto\n  .                 new_columns[[name]] <- result\n  .                 mask$add_one(name, chunks)\n  .             }\n  .         }\n  .     }\n  . }, error = function(e) {\n  .     local_call_step(dots = dots, .index = i, .fn = \"mutate\", \n  .         .dot_data = inherits(e, \"rlang_error_data_pronoun_not_found\"))\n  .     call_step_envir <- peek_call_step()\n  .     error_name <- call_step_envir$error_name\n  .     error_expression <- call_step_envir$error_expression\n  .     show_group_details <- TRUE\n  .     if (inherits(e, \"dplyr:::mutate_incompatible_size\")) {\n  .         size <- vec_size(rows[[mask$get_current_group()]])\n  .         x_size <- e$x_size\n  .         bullets <- c(i = cnd_bullet_column_info(), i = glue(\"`{error_name}` must be size {or_1(size)}, not {x_size}.\"), \n  .             i = cnd_bullet_rowwise_unlist())\n  .     }\n  .     else if (inherits(e, \"dplyr:::mutate_mixed_null\")) {\n  .         show_group_details <- FALSE\n  .         bullets <- c(i = cnd_bullet_column_info(), x = glue(\"`{error_name}` must return compatible vectors across groups.\"), \n  .             i = \"Cannot combine NULL and non NULL results.\", \n  .             i = cnd_bullet_rowwise_unlist())\n  .     }\n  .     else if (inherits(e, \"dplyr:::mutate_not_vector\")) {\n  .         bullets <- c(i = cnd_bullet_column_info(), x = glue(\"`{error_name}` must be a vector, not {friendly_type_of(e$result)}.\"), \n  .             i = cnd_bullet_rowwise_unlist())\n  .     }\n  .     else if (inherits(e, \"dplyr:::error_mutate_incompatible_combine\")) {\n  .         show_group_details <- FALSE\n  .         bullets <- c(i = cnd_bullet_column_info(), x = glue(\"`{error_name}` must return compatible vectors across groups\"), \n  .             i = cnd_bullet_combine_details(e$parent$x, e$parent$x_arg), \n  .             i = cnd_bullet_combine_details(e$parent$y, e$parent$y_arg))\n  .     }\n  .     else {\n  .         bullets <- c(i = cnd_bullet_column_info(), x = conditionMessage(e))\n  .     }\n  .     bullets <- c(cnd_bullet_header(), bullets, i = if (show_group_details) cnd_bullet_cur_group_label())\n  .     abort(bullets, class = c(\"dplyr:::mutate_error\", \"dplyr_error\"), \n  .         error_name = error_name, error_expression = error_expression, \n  .         parent = e, bullets = bullets)\n  . }, warning = function(w) {\n  .     if (check_muffled_warning(w)) {\n  .         maybe_restart(\"muffleWarning\")\n  .     }\n  .     local_call_step(dots = dots, .index = i, .fn = \"mutate\")\n  .     warn(c(cnd_bullet_header(), i = cnd_bullet_column_info(), \n  .         i = conditionMessage(w), i = cnd_bullet_cur_group_label(what = \"warning\")))\n  .     maybe_restart(\"muffleWarning\")\n  . })",
      "12. mask$eval_all_mutate(quo)",
      "13. ifelse(trial_type == \"rate\" & lead(trial_type) == \"keypress\", \n  .     lead(key), key)",
      "14. .handleSimpleError(function (e) \n  . {\n  .     local_call_step(dots = dots, .index = i, .fn = \"mutate\", \n  .         .dot_data = inherits(e, \"rlang_error_data_pronoun_not_found\"))\n  .     call_step_envir <- peek_call_step()\n  .     error_name <- call_step_envir$error_name\n  .     error_expression <- call_step_envir$error_expression\n  .     show_group_details <- TRUE\n  .     if (inherits(e, \"dplyr:::mutate_incompatible_size\")) {\n  .         size <- vec_size(rows[[mask$get_current_group()]])\n  .         x_size <- e$x_size\n  .         bullets <- c(i = cnd_bullet_column_info(), i = glue(\"`{error_name}` must be size {or_1(size)}, not {x_size}.\"), \n  .             i = cnd_bullet_rowwise_unlist())\n  .     }\n  .     else if (inherits(e, \"dplyr:::mutate_mixed_null\")) {\n  .         show_group_details <- FALSE\n  .         bullets <- c(i = cnd_bullet_column_info(), x = glue(\"`{error_name}` must return compatible vectors across groups.\"), \n  .             i = \"Cannot combine NULL and non NULL results.\", \n  .             i = cnd_bullet_rowwise_unlist())\n  .     }\n  .     else if (inherits(e, \"dplyr:::mutate_not_vector\")) {\n  .         bullets <- c(i = cnd_bullet_column_info(), x = glue(\"`{error_name}` must be a vector, not {friendly_type_of(e$result)}.\"), \n  .             i = cnd_bullet_rowwise_unlist())\n  .     }\n  .     else if (inherits(e, \"dplyr:::error_mutate_incompatible_combine\")) {\n  .         show_group_details <- FALSE\n  .         bullets <- c(i = cnd_bullet_column_info(), x = glue(\"`{error_name}` must return compatible vectors across groups\"), \n  .             i = cnd_bullet_combine_details(e$parent$x, e$parent$x_arg), \n  .             i = cnd_bullet_combine_details(e$parent$y, e$parent$y_arg))\n  .     }\n  .     else {\n  .         bullets <- c(i = cnd_bullet_column_info(), x = conditionMessage(e))\n  .     }\n  .     bullets <- c(cnd_bullet_header(), bullets, i = if (show_group_details) cnd_bullet_cur_group_label())\n  .     abort(bullets, class = c(\"dplyr:::mutate_error\", \"dplyr_error\"), \n  .         error_name = error_name, error_expression = error_expression, \n  .         parent = e, bullets = bullets)\n  . }, \"object 'key' not found\", base::quote(ifelse(trial_type == \n  .     \"rate\" & lead(trial_type) == \"keypress\", lead(key), key)))",
      "15. h(simpleError(msg, call))",
      "16. abort(bullets, class = c(\"dplyr:::mutate_error\", \"dplyr_error\"), \n  .     error_name = error_name, error_expression = error_expression, \n  .     parent = e, bullets = bullets)",
      "17. signal_abort(cnd)"
     ]
    }
   ],
   "source": [
    "files = fs::dir_ls(file_read_dir, regexp = \".*csv\")\n",
    "\n",
    "for (file in files) {\n",
    "    var_names = data.frame(file = file) %>% extract(file, \n",
    "                                                    c(\"task\", \"sub_id\"),\n",
    "                                                    \"task_(share|read)/(sub-BPP[0-9]{2}|sub-BPA[0-9]{2}).*\")\n",
    "    sub_file = read.csv(file, stringsAsFactors = FALSE) %>%\n",
    "        mutate(key = ifelse(trial_type == \"rate\" & lead(trial_type) == \"keypress\", lead(key), key),\n",
    "               rt = ifelse(trial_type == \"rate\" & lead(trial_type) == \"keypress\", lead(rt), rt),\n",
    "               value = ifelse(trial_type == \"rate\" & lead(trial_type) == \"keypress\", lead(value), value),\n",
    "               event_name = ifelse(grepl(\"read\", trial_type), sprintf(\"%s_%s\", trial_type, index), trial_type)) %>%\n",
    "        filter(!trial_type == \"keypress\")\n",
    "\n",
    "    file_path = file.path(bids_dir, var_names$sub_id, sprintf(\"func/%s_task-%s_run-1_events.tsv\", var_names$sub_id, var_names$task))\n",
    "    \n",
    "    print(file_path)\n",
    "    tryCatch(write.table(sub_file, file_path, sep = \"\\t\", row.names = FALSE, quote = FALSE), error = function(e) message(file))\n",
    "}"
   ]
  },
  {
   "cell_type": "code",
   "execution_count": null,
   "metadata": {},
   "outputs": [],
   "source": []
  }
 ],
 "metadata": {
  "kernelspec": {
   "display_name": "R",
   "language": "R",
   "name": "ir"
  },
  "language_info": {
   "codemirror_mode": "r",
   "file_extension": ".r",
   "mimetype": "text/x-r-source",
   "name": "R",
   "pygments_lexer": "r",
   "version": "3.6.0"
  }
 },
 "nbformat": 4,
 "nbformat_minor": 2
}
